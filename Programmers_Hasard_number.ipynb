{
  "nbformat": 4,
  "nbformat_minor": 0,
  "metadata": {
    "colab": {
      "private_outputs": true,
      "provenance": [],
      "include_colab_link": true
    },
    "kernelspec": {
      "name": "python3",
      "display_name": "Python 3"
    },
    "language_info": {
      "name": "python"
    },
    "gpuClass": "standard"
  },
  "cells": [
    {
      "cell_type": "markdown",
      "metadata": {
        "id": "view-in-github",
        "colab_type": "text"
      },
      "source": [
        "<a href=\"https://colab.research.google.com/github/jooney-ai/Python/blob/main/Programmers_Hasard_number.ipynb\" target=\"_parent\"><img src=\"https://colab.research.google.com/assets/colab-badge.svg\" alt=\"Open In Colab\"/></a>"
      ]
    },
    {
      "cell_type": "markdown",
      "source": [
        "## Hasard number\n",
        "\n",
        "> For a positive integer x to be a hashard number, x must be divided by the sum of the digits of x. For example, 18 is the sum of digits 1+8=9, and 18 is divided by 9, so 18 is the number of harsards. Please complete solution, a function that checks whether x is a Hasard number or not by receiving a natural number x.\n",
        "\n",
        "Restricted Condition\n",
        "\n",
        "*   x is an integer greater than or equal to 1 and less than or equal to 10000.\n",
        "\n",
        "```\n",
        "for example \n",
        "\n",
        "if x = 10, return true\n",
        "if x = 12, return true\n",
        "if x = 11, return false\n",
        "if x = 13, return false\n",
        "\n",
        "```"
      ],
      "metadata": {
        "id": "oekeX0NMC3Y_"
      }
    },
    {
      "cell_type": "code",
      "source": [
        "import time"
      ],
      "metadata": {
        "id": "FDK3bzUu9NVq"
      },
      "execution_count": null,
      "outputs": []
    },
    {
      "cell_type": "code",
      "source": [
        "def test():\n",
        "\n",
        "    print('x = 10,', solution(10), end = '\\n\\n')\n",
        "    print('x = 12,', solution(12), end = '\\n\\n')\n",
        "    print('x = 11,', solution(11), end = '\\n\\n')\n",
        "    print('x = 13,', solution(13), end = '\\n\\n')\n",
        "\n",
        "    end = time.time()\n",
        "\n",
        "    print(\"Operation time :\", f\"{end - start:.5f} sec\")"
      ],
      "metadata": {
        "id": "iWy8r888QzLG"
      },
      "execution_count": null,
      "outputs": []
    },
    {
      "cell_type": "code",
      "execution_count": null,
      "metadata": {
        "id": "3M7H7WRWCUqY"
      },
      "outputs": [],
      "source": [
        "start = time.time()\n",
        "\n",
        "def solution(x):\n",
        "\n",
        "# Solution ===========================\n",
        "\n",
        "    number_list = []\n",
        "    \n",
        "    for num in str(x):\n",
        "        \n",
        "        number_list.append(int(num)) # Add a number from the beginning\n",
        "        \n",
        "    if x % sum(number_list) == 0: # When x is divided by the sum of the numbers\n",
        "        return True\n",
        "    else:\n",
        "        return False   \n",
        "      \n",
        "# ====================================\n",
        "    return int(answer)\n",
        "\n",
        "\n",
        "# test\n",
        "\n",
        "test()"
      ]
    },
    {
      "cell_type": "code",
      "source": [
        "start = time.time()\n",
        "\n",
        "def solution(x):\n",
        "\n",
        "# Solution ===========================\n",
        " \n",
        "    if x % sum( int(num) for num in str(x) ) == 0: # the sum of each digit\n",
        "        return True\n",
        "    else:\n",
        "        return False\n",
        "      \n",
        "# ====================================\n",
        "    return int(answer)\n",
        "\n",
        "\n",
        "# test\n",
        "\n",
        "test()"
      ],
      "metadata": {
        "id": "t_swFBLbnZlL"
      },
      "execution_count": null,
      "outputs": []
    },
    {
      "cell_type": "code",
      "source": [
        "start = time.time()\n",
        "\n",
        "def solution(n):\n",
        "\n",
        "# Solution ===========================\n",
        " \n",
        "# ====================================\n",
        "    return n % sum( int(x) for x in str(n) ) == 0\n",
        "\n",
        "\n",
        "# test\n",
        "\n",
        "test()"
      ],
      "metadata": {
        "id": "t7VLh6pNQt62"
      },
      "execution_count": null,
      "outputs": []
    }
  ]
}