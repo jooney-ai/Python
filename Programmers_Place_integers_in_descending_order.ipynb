{
  "nbformat": 4,
  "nbformat_minor": 0,
  "metadata": {
    "colab": {
      "private_outputs": true,
      "provenance": []
    },
    "kernelspec": {
      "name": "python3",
      "display_name": "Python 3"
    },
    "language_info": {
      "name": "python"
    },
    "gpuClass": "standard"
  },
  "cells": [
    {
      "cell_type": "markdown",
      "source": [
        "## Place integers in descending order\n",
        "\n",
        "> The function solution receives an integer 'n' as a parameter. Please return a new integer with each digit of 'n' sorted from large to small. For example, if 'n' is 118372, return 873211.\n",
        "\n",
        "Restricted Condition\n",
        "\n",
        "*   'n' is a natural number that is more than 1 and less than 8000000000.\n",
        "\n",
        "```\n",
        "for example : if n = 118372, return 873211\n",
        "```"
      ],
      "metadata": {
        "id": "oekeX0NMC3Y_"
      }
    },
    {
      "cell_type": "code",
      "source": [
        "import time"
      ],
      "metadata": {
        "id": "FDK3bzUu9NVq"
      },
      "execution_count": null,
      "outputs": []
    },
    {
      "cell_type": "code",
      "execution_count": null,
      "metadata": {
        "id": "3M7H7WRWCUqY"
      },
      "outputs": [],
      "source": [
        "start = time.time()\n",
        "\n",
        "def solution(n):\n",
        "\n",
        "# Solution ===========================\n",
        "\n",
        "    answer = ''\n",
        "    \n",
        "    number = [ int(num) for num in str(n) ]\n",
        "    box = sorted(number, reverse = True)\n",
        "    \n",
        "    for num in box:\n",
        "        answer += str(num)\n",
        "      \n",
        "# ====================================\n",
        "    return int(answer)\n",
        "\n",
        "print(solution(118372), end = '\\n\\n')\n",
        "\n",
        "end = time.time()\n",
        "\n",
        "print(\"Operation time :\", f\"{end - start:.5f} sec\")"
      ]
    }
  ]
}