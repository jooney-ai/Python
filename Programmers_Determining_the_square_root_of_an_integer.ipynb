{
  "nbformat": 4,
  "nbformat_minor": 0,
  "metadata": {
    "colab": {
      "private_outputs": true,
      "provenance": [],
      "include_colab_link": true
    },
    "kernelspec": {
      "name": "python3",
      "display_name": "Python 3"
    },
    "language_info": {
      "name": "python"
    },
    "gpuClass": "standard"
  },
  "cells": [
    {
      "cell_type": "markdown",
      "metadata": {
        "id": "view-in-github",
        "colab_type": "text"
      },
      "source": [
        "<a href=\"https://colab.research.google.com/github/jooney-ai/Python/blob/main/Programmers_Determining_the_square_root_of_an_integer.ipynb\" target=\"_parent\"><img src=\"https://colab.research.google.com/assets/colab-badge.svg\" alt=\"Open In Colab\"/></a>"
      ]
    },
    {
      "cell_type": "markdown",
      "source": [
        "## Determining the square root of an integer\n",
        "\n",
        "> For any positive integer n, you want to determine whether n is the square of any positive integer x.\n",
        "Complete the function that returns the square of x+1 if n is the square of the positive integer x, and -1 if n is not the square of the positive integer x.\n",
        "\n",
        "\n",
        "Restricted Condition\n",
        "\n",
        "*   n is a positive integer greater than or equal to 1 and less than or equal to 500000000000.\n",
        "\n",
        "\n",
        "```\n",
        "for example \n",
        "\n",
        "1. if n = 121, return 144\n",
        "2. if n = 3, return -1\n",
        "```"
      ],
      "metadata": {
        "id": "oekeX0NMC3Y_"
      }
    },
    {
      "cell_type": "code",
      "source": [
        "import time"
      ],
      "metadata": {
        "id": "FDK3bzUu9NVq"
      },
      "execution_count": null,
      "outputs": []
    },
    {
      "cell_type": "code",
      "source": [
        "def test():\n",
        "\n",
        "    print(solution(121), end = '\\n\\n')\n",
        "    print(solution(3), end = '\\n\\n')\n",
        "\n",
        "    end = time.time()\n",
        "\n",
        "    print(\"Operation time :\", f\"{end - start:.5f} sec\")"
      ],
      "metadata": {
        "id": "Ez5rT65i8_6X"
      },
      "execution_count": null,
      "outputs": []
    },
    {
      "cell_type": "code",
      "execution_count": null,
      "metadata": {
        "id": "3M7H7WRWCUqY"
      },
      "outputs": [],
      "source": [
        "start = time.time()\n",
        "\n",
        "\n",
        "def solution(n):\n",
        "\n",
        "# Solution ===========================\n",
        "\n",
        "    answer = 0\n",
        "    \n",
        "    for num in range(n+1):\n",
        "        \n",
        "        if n == num ** 2:\n",
        "            answer = ( num + 1 ) ** 2\n",
        "            break\n",
        "            \n",
        "        else:\n",
        "            answer = -1\n",
        "      \n",
        "# ====================================\n",
        "    return answer\n",
        "\n",
        "\n",
        "# TEST\n",
        "\n",
        "test()"
      ]
    },
    {
      "cell_type": "code",
      "source": [
        "start = time.time()\n",
        "\n",
        "\n",
        "def solution(n):\n",
        "\n",
        "# Solution ===========================\n",
        "\n",
        "    sqrt = n ** (1/2)\n",
        "\n",
        "    if sqrt % 1 == 0:\n",
        "        return (sqrt + 1) ** 2\n",
        "      \n",
        "# ====================================\n",
        "    return -1   \n",
        "\n",
        "\n",
        "# TEST\n",
        "\n",
        "test()"
      ],
      "metadata": {
        "id": "5oe4c_Pe8f4J"
      },
      "execution_count": null,
      "outputs": []
    },
    {
      "cell_type": "code",
      "source": [
        "start = time.time()\n",
        "\n",
        "\n",
        "def solution(n):\n",
        "\n",
        "# Solution ===========================\n",
        "      \n",
        "# ====================================\n",
        "    return n == int( n **.5 ) **2 and int( n **.5 +1 ) **2 or -1\n",
        "\n",
        "\n",
        "# TEST\n",
        "\n",
        "test()"
      ],
      "metadata": {
        "id": "0dETgwBafwJI"
      },
      "execution_count": null,
      "outputs": []
    }
  ]
}