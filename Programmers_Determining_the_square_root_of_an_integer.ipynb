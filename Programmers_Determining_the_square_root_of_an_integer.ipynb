{
  "nbformat": 4,
  "nbformat_minor": 0,
  "metadata": {
    "colab": {
      "private_outputs": true,
      "provenance": []
    },
    "kernelspec": {
      "name": "python3",
      "display_name": "Python 3"
    },
    "language_info": {
      "name": "python"
    },
    "gpuClass": "standard"
  },
  "cells": [
    {
      "cell_type": "markdown",
      "source": [
        "## Determining the square root of an integer\n",
        "\n",
        "> For any positive integer n, you want to determine whether n is the square of any positive integer x.\n",
        "Complete the function that returns the square of x+1 if n is the square of the positive integer x, and -1 if n is not the square of the positive integer x.\n",
        "\n",
        "\n",
        "Restricted Condition\n",
        "\n",
        "*   n is a positive integer greater than or equal to 1 and less than or equal to 500000000000.\n",
        "\n",
        "\n",
        "```\n",
        "for example \n",
        "\n",
        "1. if n = 121, return 144\n",
        "2. if n = 3, return -1\n",
        "```"
      ],
      "metadata": {
        "id": "oekeX0NMC3Y_"
      }
    },
    {
      "cell_type": "code",
      "source": [
        "import time"
      ],
      "metadata": {
        "id": "FDK3bzUu9NVq"
      },
      "execution_count": null,
      "outputs": []
    },
    {
      "cell_type": "code",
      "execution_count": null,
      "metadata": {
        "id": "3M7H7WRWCUqY"
      },
      "outputs": [],
      "source": [
        "start = time.time()\n",
        "\n",
        "def solution(n):\n",
        "\n",
        "# Solution ===========================\n",
        "\n",
        "    answer = 0\n",
        "    \n",
        "    for num in range(n+1):\n",
        "        \n",
        "        if n == num ** 2:\n",
        "            answer = ( num + 1 ) ** 2\n",
        "            break\n",
        "            \n",
        "        else:\n",
        "            answer = -1\n",
        "      \n",
        "# ====================================\n",
        "    return answer\n",
        "\n",
        "print(solution(121), end = '\\n\\n')\n",
        "print(solution(3), end = '\\n\\n')\n",
        "\n",
        "end = time.time()\n",
        "\n",
        "print(\"Operation time :\", f\"{end - start:.5f} sec\")"
      ]
    }
  ]
}