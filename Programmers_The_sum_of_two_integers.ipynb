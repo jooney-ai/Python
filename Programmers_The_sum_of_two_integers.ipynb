{
  "nbformat": 4,
  "nbformat_minor": 0,
  "metadata": {
    "colab": {
      "private_outputs": true,
      "provenance": [],
      "include_colab_link": true
    },
    "kernelspec": {
      "name": "python3",
      "display_name": "Python 3"
    },
    "language_info": {
      "name": "python"
    },
    "gpuClass": "standard"
  },
  "cells": [
    {
      "cell_type": "markdown",
      "metadata": {
        "id": "view-in-github",
        "colab_type": "text"
      },
      "source": [
        "<a href=\"https://colab.research.google.com/github/jooney-ai/Python/blob/main/Programmers_The_sum_of_two_integers.ipynb\" target=\"_parent\"><img src=\"https://colab.research.google.com/assets/colab-badge.svg\" alt=\"Open In Colab\"/></a>"
      ]
    },
    {
      "cell_type": "markdown",
      "source": [
        "## The sum of two integers\n",
        "\n",
        "> Complete the solution, a function that returns the sum of all integers between a and b given two integers a and b.\n",
        "For example, if a = 3, b = 5, return 12 because 3 + 4 + 5 = 12.\n",
        "\n",
        "Restricted Condition\n",
        "\n",
        "*   If a and b are the same, return either of them.\n",
        "* a and b are integers greater than or equal to -10,000,000 and less than or equal to 10,000,000.\n",
        "* The relationship between a and b is not fixed.\n",
        "\n",
        "```\n",
        "for example \n",
        "\n",
        "if a = 3, b = 5 , return 12\n",
        "if a = 3, b = 3 , return 3\n",
        "if a = 5, b = 3 , return 12\n",
        "\n",
        "```"
      ],
      "metadata": {
        "id": "oekeX0NMC3Y_"
      }
    },
    {
      "cell_type": "code",
      "source": [
        "import time"
      ],
      "metadata": {
        "id": "FDK3bzUu9NVq"
      },
      "execution_count": null,
      "outputs": []
    },
    {
      "cell_type": "code",
      "execution_count": null,
      "metadata": {
        "id": "3M7H7WRWCUqY"
      },
      "outputs": [],
      "source": [
        "start = time.time()\n",
        "\n",
        "def solution( a , b ):\n",
        "\n",
        "# Solution ===========================\n",
        "\n",
        "    if a < b:\n",
        "        answer = range( a , b+1 )\n",
        "    else:\n",
        "        answer = range( b , a+1 )\n",
        "      \n",
        "# ====================================\n",
        "    return sum(answer)\n",
        "\n",
        "\n",
        "print('a = 3, b = 5 ', end = f'\\n-> {solution( 3 , 5 )}\\n\\n')\n",
        "print('a = 3, b = 3 ', end = f'\\n-> {solution( 3 , 3 )}\\n\\n')\n",
        "print('a = 5, b = 3 ', end = f'\\n-> {solution( 5 , 3 )}\\n\\n')\n",
        "\n",
        "\n",
        "end = time.time()\n",
        "\n",
        "print(\"Operation time :\", f\"{end - start:.5f} sec\")"
      ]
    },
    {
      "cell_type": "code",
      "source": [
        "start = time.time()\n",
        "\n",
        "def solution( a , b ):\n",
        "\n",
        "# Solution ===========================\n",
        "\n",
        "    'Set list range from minimum to maximum'\n",
        "    answer = sum( range( min([a,b]) , max([a+1,b+1]) ) )\n",
        "          \n",
        "# ====================================\n",
        "    # return a if a == b else answer\n",
        "    return answer\n",
        "\n",
        "\n",
        "print('a = 3, b = 5 ', end = f'\\n-> {solution( 3 , 5 )}\\n\\n')\n",
        "print('a = 3, b = 3 ', end = f'\\n-> {solution( 3 , 3 )}\\n\\n')\n",
        "print('a = 5, b = 3 ', end = f'\\n-> {solution( 5 , 3 )}\\n\\n')\n",
        "\n",
        "\n",
        "end = time.time()\n",
        "\n",
        "print(\"Operation time :\", f\"{end - start:.5f} sec\")"
      ],
      "metadata": {
        "id": "T2ECS_37jGlF"
      },
      "execution_count": null,
      "outputs": []
    }
  ]
}