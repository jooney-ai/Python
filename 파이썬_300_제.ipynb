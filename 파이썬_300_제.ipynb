{
  "nbformat": 4,
  "nbformat_minor": 0,
  "metadata": {
    "colab": {
      "provenance": [],
      "authorship_tag": "ABX9TyOcZoFzhvDkJQqeje4sZqZJ",
      "include_colab_link": true
    },
    "kernelspec": {
      "name": "python3",
      "display_name": "Python 3"
    },
    "language_info": {
      "name": "python"
    }
  },
  "cells": [
    {
      "cell_type": "markdown",
      "metadata": {
        "id": "view-in-github",
        "colab_type": "text"
      },
      "source": [
        "<a href=\"https://colab.research.google.com/github/jooney-ai/Python-basic/blob/main/%ED%8C%8C%EC%9D%B4%EC%8D%AC_300_%EC%A0%9C.ipynb\" target=\"_parent\"><img src=\"https://colab.research.google.com/assets/colab-badge.svg\" alt=\"Open In Colab\"/></a>"
      ]
    },
    {
      "cell_type": "code",
      "execution_count": null,
      "metadata": {
        "colab": {
          "base_uri": "https://localhost:8080/"
        },
        "id": "LI8BH9orPont",
        "outputId": "b7d61d87-8407-4d0f-9071-0d613bbe7304"
      },
      "outputs": [
        {
          "output_type": "stream",
          "name": "stdout",
          "text": [
            "1번.\tHello World\n",
            "Hello World\n",
            "Hello World\n",
            "HelloWorld\n",
            "HelloWorld\n"
          ]
        }
      ],
      "source": [
        "print(\"1번.\\t\"\"Hello World\")\n",
        "print('Hello World')\n",
        "print('Hello','World')\n",
        "print('Hello'+'World')\n",
        "print('Hello''World')\n",
        "# 완료"
      ]
    },
    {
      "cell_type": "code",
      "source": [
        "print(\"2번.\\t\"\"Mary's cosmetics\")   # 다른 따옴표로 구분 가능\n",
        "print('''Mary's cosmetics''')\n",
        "# 완료"
      ],
      "metadata": {
        "colab": {
          "base_uri": "https://localhost:8080/"
        },
        "id": "ayHyztBUQEla",
        "outputId": "2a2a9114-9a05-4b7d-aab6-08273c43cc77"
      },
      "execution_count": null,
      "outputs": [
        {
          "output_type": "stream",
          "name": "stdout",
          "text": [
            "2번.\tMary's cosmetics\n",
            "Mary's cosmetics\n"
          ]
        }
      ]
    },
    {
      "cell_type": "code",
      "source": [
        "print(\"3번.\\t\"'''신씨가 소리질렀다. \"도둑이야\".''')\n",
        "print('신씨가 소리질렀다. \"도둑이야\".')\n",
        "# 완료"
      ],
      "metadata": {
        "colab": {
          "base_uri": "https://localhost:8080/"
        },
        "id": "7LUbnv71RpcE",
        "outputId": "cf2b8777-1adb-4d30-f9a3-f4791fe41c88"
      },
      "execution_count": null,
      "outputs": [
        {
          "output_type": "stream",
          "name": "stdout",
          "text": [
            "3번.\t신씨가 소리질렀다. \"도둑이야\".\n",
            "신씨가 소리질렀다. \"도둑이야\".\n"
          ]
        }
      ]
    },
    {
      "cell_type": "code",
      "source": [
        "print(\"4번.\\t\"'''\"C:|Windows\"''')\n",
        "print('\"C:|Windows\"')\n",
        "# 완료\n",
        "print(\"C:|Windows\") # ?"
      ],
      "metadata": {
        "colab": {
          "base_uri": "https://localhost:8080/"
        },
        "id": "xebbn4poR0Xp",
        "outputId": "3fbcab63-9166-4d2f-ea32-e47b3647a5f9"
      },
      "execution_count": null,
      "outputs": [
        {
          "output_type": "stream",
          "name": "stdout",
          "text": [
            "4번.\t\"C:|Windows\"\n",
            "\"C:|Windows\"\n",
            "C:|Windows\n"
          ]
        }
      ]
    },
    {
      "cell_type": "code",
      "source": [
        "print(\"5번.\\t\"\"안녕하세요.\\n만나서\\t\\t반갑습니다.\"\"\\n '\\\\n' 의 역할은 엔터\")\n",
        "# 완료"
      ],
      "metadata": {
        "colab": {
          "base_uri": "https://localhost:8080/"
        },
        "id": "CcnqWffgR_5U",
        "outputId": "30346eac-ae01-4f14-b0be-b57660fc6fd9"
      },
      "execution_count": null,
      "outputs": [
        {
          "output_type": "stream",
          "name": "stdout",
          "text": [
            "5번.\t안녕하세요.\n",
            "만나서\t\t반갑습니다.\n",
            " '\\n' 의 역할은 엔터\n"
          ]
        }
      ]
    },
    {
      "cell_type": "code",
      "source": [
        "print(\"6번.\\t\"'오늘은 일요일')\n",
        "# 완료"
      ],
      "metadata": {
        "colab": {
          "base_uri": "https://localhost:8080/"
        },
        "id": "cibva5jqSqNf",
        "outputId": "5e891c61-6ff1-4ad8-e429-d27da7daf913"
      },
      "execution_count": null,
      "outputs": [
        {
          "output_type": "stream",
          "name": "stdout",
          "text": [
            "6번.\t오늘은 일요일\n"
          ]
        }
      ]
    },
    {
      "cell_type": "code",
      "source": [
        "print(\"7번.\\t\"'naver;kakao;sk;samsung')\n",
        "# 완료\n",
        "print(\"naver\",\"kakao\",\"sk\",\"samsung\", sep = \";\")\n",
        "print(\"naver\"+\"kakao\"+\"sk\"+\"samsung\", sep = \";\")   # 띄어쓰기가 없으면 바뀌지 않음"
      ],
      "metadata": {
        "colab": {
          "base_uri": "https://localhost:8080/"
        },
        "id": "7cXR5iZuTZuF",
        "outputId": "9fb238be-2f63-4cfd-a385-b7ce481df31c"
      },
      "execution_count": null,
      "outputs": [
        {
          "output_type": "stream",
          "name": "stdout",
          "text": [
            "7번.\tnaver;kakao;sk;samsung\n",
            "naver;kakao;sk;samsung\n",
            "naverkakaosksamsung\n"
          ]
        }
      ]
    },
    {
      "cell_type": "code",
      "source": [
        "print(\"8번.\\t\"'naver/kakao/sk/samsung')\n",
        "# 완료\n",
        "print('naver','kakao','sk','samsung', sep = '/')\n",
        "print('naver''kakao''sk''samsung', sep = '/')   # 띄어쓰기가 없으면 바뀌지 않음"
      ],
      "metadata": {
        "colab": {
          "base_uri": "https://localhost:8080/"
        },
        "id": "HFCxV4_dUSah",
        "outputId": "dff5d94a-99a5-4cfd-f846-05c7480e4fab"
      },
      "execution_count": null,
      "outputs": [
        {
          "output_type": "stream",
          "name": "stdout",
          "text": [
            "8번.\tnaver/kakao/sk/samsung\n",
            "naver/kakao/sk/samsung\n",
            "naverkakaosksamsung\n"
          ]
        }
      ]
    },
    {
      "cell_type": "code",
      "source": [
        "print(\"9번.\\t\"\"first\",end = ' ');print(\"second\")\n",
        "# 완료"
      ],
      "metadata": {
        "colab": {
          "base_uri": "https://localhost:8080/"
        },
        "id": "D8xr0lpj0-ia",
        "outputId": "c508893c-11cf-43c3-ea9b-f96531ec3248"
      },
      "execution_count": null,
      "outputs": [
        {
          "output_type": "stream",
          "name": "stdout",
          "text": [
            "9번.\tfirst second\n"
          ]
        }
      ]
    },
    {
      "cell_type": "code",
      "source": [
        "print(\"10번.\\t\",5/3)\n",
        "5/3\n",
        "# 완료"
      ],
      "metadata": {
        "colab": {
          "base_uri": "https://localhost:8080/"
        },
        "id": "84Tnxz5E1om6",
        "outputId": "a955f184-a2c5-44e1-d398-09232a2270ed"
      },
      "execution_count": null,
      "outputs": [
        {
          "output_type": "stream",
          "name": "stdout",
          "text": [
            "10번.\t 1.6666666666666667\n"
          ]
        },
        {
          "output_type": "execute_result",
          "data": {
            "text/plain": [
              "1.6666666666666667"
            ]
          },
          "metadata": {},
          "execution_count": 26
        }
      ]
    },
    {
      "cell_type": "markdown",
      "source": [
        "# 　　**10 번까지 완료**\n",
        "\n",
        "---"
      ],
      "metadata": {
        "id": "eDTPcJp4l6YA"
      }
    },
    {
      "cell_type": "code",
      "source": [
        "# 11 번\n",
        "삼성전자 = '50000원'\n",
        "\n",
        "print(int(삼성전자.replace('원',''))*10,'원')\n",
        "#print(int(삼성전자))\n",
        "#print(int(input(삼성전자)))\n",
        "# 완료"
      ],
      "metadata": {
        "colab": {
          "base_uri": "https://localhost:8080/"
        },
        "id": "nxAZcVis2-H5",
        "outputId": "74cd8807-4c91-4fdb-c49a-a60b6167d167"
      },
      "execution_count": null,
      "outputs": [
        {
          "output_type": "stream",
          "name": "stdout",
          "text": [
            "500000 원\n"
          ]
        }
      ]
    },
    {
      "cell_type": "code",
      "source": [
        "# 12 번\n",
        "시가총액 = '298조'\n",
        "현재가 = '50000원'\n",
        "PER = 15.79\n",
        "# 완료"
      ],
      "metadata": {
        "id": "g0b49lFr5Bph"
      },
      "execution_count": null,
      "outputs": []
    },
    {
      "cell_type": "code",
      "source": [
        "# 13 번\n",
        "s , t = \"hello\" , \"python\"\n",
        "print(s+'!',t)\n",
        "# 완료"
      ],
      "metadata": {
        "colab": {
          "base_uri": "https://localhost:8080/"
        },
        "id": "OAvJlWpZ6H1Z",
        "outputId": "c3246014-c1e4-44b2-a998-98f2ee764332"
      },
      "execution_count": null,
      "outputs": [
        {
          "output_type": "stream",
          "name": "stdout",
          "text": [
            "hello! python\n"
          ]
        }
      ]
    },
    {
      "cell_type": "code",
      "source": [
        "# 14 번\n",
        "8\n",
        "# 완료"
      ],
      "metadata": {
        "id": "IGpPyqUj6hsB"
      },
      "execution_count": null,
      "outputs": []
    },
    {
      "cell_type": "code",
      "source": [
        "# 15 번\n",
        "a = \"132\"\n",
        "print(type(a))\n",
        "# 완료"
      ],
      "metadata": {
        "colab": {
          "base_uri": "https://localhost:8080/"
        },
        "id": "JhU9T3De7PyQ",
        "outputId": "bd369e61-a8fc-42e3-f423-8c10b064d5c1"
      },
      "execution_count": null,
      "outputs": [
        {
          "output_type": "stream",
          "name": "stdout",
          "text": [
            "<class 'str'>\n"
          ]
        }
      ]
    },
    {
      "cell_type": "code",
      "source": [
        "# 16 번 : 정수형 변환\n",
        "num_str = \"720\"\n",
        "int(num_str)\n",
        "# 완료"
      ],
      "metadata": {
        "colab": {
          "base_uri": "https://localhost:8080/"
        },
        "id": "ejPyXzgZUXIA",
        "outputId": "c6148ff6-fbb3-40cc-871d-55437daaa6c6"
      },
      "execution_count": null,
      "outputs": [
        {
          "output_type": "execute_result",
          "data": {
            "text/plain": [
              "720"
            ]
          },
          "metadata": {},
          "execution_count": 43
        }
      ]
    },
    {
      "cell_type": "code",
      "source": [
        "# 17 번 : 문자열 변환\n",
        "num = 100\n",
        "print(str(num))\n",
        "print(type(str(num)))\n",
        "# 완료"
      ],
      "metadata": {
        "colab": {
          "base_uri": "https://localhost:8080/"
        },
        "id": "9VXUdwkLU4uM",
        "outputId": "d7a2ae3a-c298-46f4-d592-afb67b932018"
      },
      "execution_count": null,
      "outputs": [
        {
          "output_type": "stream",
          "name": "stdout",
          "text": [
            "100\n",
            "<class 'str'>\n"
          ]
        }
      ]
    },
    {
      "cell_type": "code",
      "source": [
        "# 18 번\n",
        "print(float(\"15.79\"))\n",
        "print(type(float(\"15.79\")))\n",
        "# 완료"
      ],
      "metadata": {
        "id": "RBFnlzDlVJ6k",
        "colab": {
          "base_uri": "https://localhost:8080/"
        },
        "outputId": "a2b9fede-d924-4197-a0ad-577835b1c76e"
      },
      "execution_count": null,
      "outputs": [
        {
          "output_type": "stream",
          "name": "stdout",
          "text": [
            "15.79\n",
            "<class 'float'>\n"
          ]
        }
      ]
    },
    {
      "cell_type": "code",
      "source": [
        "# 19 번\n",
        "year = \"2020\"\n",
        "print(int(year), int(year) + 1, int(year) + 2)\n",
        "year = int(year), int(year) + 1, int(year) + 2\n",
        "print(year)\n",
        "type(year)\n",
        "# 완료"
      ],
      "metadata": {
        "colab": {
          "base_uri": "https://localhost:8080/"
        },
        "id": "fmbnE8QS9nqi",
        "outputId": "760f3653-6a35-4316-cf87-7532b1cb2334"
      },
      "execution_count": null,
      "outputs": [
        {
          "output_type": "stream",
          "name": "stdout",
          "text": [
            "2020 2021 2022\n",
            "(2020, 2021, 2022)\n"
          ]
        },
        {
          "output_type": "execute_result",
          "data": {
            "text/plain": [
              "tuple"
            ]
          },
          "metadata": {},
          "execution_count": 8
        }
      ]
    },
    {
      "cell_type": "code",
      "source": [
        "# 20 번\n",
        "monthly_cost = '48584원'\n",
        "monthly_cost.replace('원','')\n",
        "total_cost = int(monthly_cost.replace('원','')) * 36\n",
        "#a = '100원'\n",
        "#a.replace('원','')\n",
        "print(total_cost , '원')\n",
        "#print(a.replace('원',''))\n",
        "# 완료"
      ],
      "metadata": {
        "id": "YKW72xzZjToY",
        "colab": {
          "base_uri": "https://localhost:8080/"
        },
        "outputId": "03a199f7-527e-4898-9317-29976a892a00"
      },
      "execution_count": null,
      "outputs": [
        {
          "output_type": "stream",
          "name": "stdout",
          "text": [
            "1749024 원\n"
          ]
        }
      ]
    },
    {
      "cell_type": "markdown",
      "source": [
        "# 　　**20 번까지 완료**\n",
        "\n",
        "---"
      ],
      "metadata": {
        "id": "elTkQq6gDtrI"
      }
    },
    {
      "cell_type": "code",
      "source": [
        "# 21 번\n",
        "letters = 'python'\n",
        "print(letters[0] , letters[2])\n",
        "#print(letters[0,2])\n",
        "#p = letters.pop[0]\n",
        "#print(p)\n",
        "# 완료"
      ],
      "metadata": {
        "id": "XypmNvF_9yvu",
        "colab": {
          "base_uri": "https://localhost:8080/"
        },
        "outputId": "8bf76fdc-0ade-4529-9cab-1486c8a97938"
      },
      "execution_count": null,
      "outputs": [
        {
          "output_type": "stream",
          "name": "stdout",
          "text": [
            "p t\n"
          ]
        }
      ]
    },
    {
      "cell_type": "code",
      "source": [
        "# 22 번 : 슬라이싱\n",
        "license_plate = \"24가 2210\"\n",
        "print(license_plate[:-5:-1])  # 순서도 거꾸로 됨\n",
        "print(license_plate[3:])\n",
        "print(license_plate[4:])\n",
        "print(license_plate[-4:])\n",
        "# 완료"
      ],
      "metadata": {
        "colab": {
          "base_uri": "https://localhost:8080/"
        },
        "id": "MhQOXH2zD97b",
        "outputId": "a04c1331-69a1-443d-a24d-3115a9ee2c11"
      },
      "execution_count": null,
      "outputs": [
        {
          "output_type": "stream",
          "name": "stdout",
          "text": [
            "0122\n",
            " 2210\n",
            "2210\n",
            "2210\n"
          ]
        }
      ]
    },
    {
      "cell_type": "code",
      "source": [
        "# 23 번 \n",
        "string = \"홀짝홀짝홀짝\"\n",
        "#del string[0]\n",
        "print(string.replace('짝',''))\n",
        "print(string[::2])\n",
        "print(string[0],string[2],string[4])\n",
        "print(string[0]+string[2]+string[4])\n",
        "print('string[0]''string[2]''string[4]')\n",
        "# 완료"
      ],
      "metadata": {
        "colab": {
          "base_uri": "https://localhost:8080/"
        },
        "id": "KmZEUnzdEzJb",
        "outputId": "a175087f-ebf8-4c12-96be-d2f89da85ccf"
      },
      "execution_count": null,
      "outputs": [
        {
          "output_type": "stream",
          "name": "stdout",
          "text": [
            "홀홀홀\n",
            "홀홀홀\n",
            "홀 홀 홀\n",
            "홀홀홀\n",
            "string[0]string[2]string[4]\n"
          ]
        }
      ]
    },
    {
      "cell_type": "code",
      "source": [
        "# 24 번 : 거꾸로 슬라이싱\n",
        "string = \"PYTHON\"\n",
        "print(string[::-1])\n",
        "# 완료"
      ],
      "metadata": {
        "colab": {
          "base_uri": "https://localhost:8080/"
        },
        "id": "gXPG_hADFXBP",
        "outputId": "d6b81580-3d09-4886-df11-77f5314059dd"
      },
      "execution_count": null,
      "outputs": [
        {
          "output_type": "stream",
          "name": "stdout",
          "text": [
            "NOHTYP\n"
          ]
        }
      ]
    },
    {
      "cell_type": "code",
      "source": [
        "# 25 번 : 치환\n",
        "phone_number = \"010-1111-2222\"\n",
        "print(phone_number.replace('-',' '))\n",
        "#del phone_number[]\n",
        "# 완료"
      ],
      "metadata": {
        "colab": {
          "base_uri": "https://localhost:8080/",
          "height": 246
        },
        "id": "GJTj1PDtGbDN",
        "outputId": "71f425fc-e0a4-415f-f467-d60b1f47e04c"
      },
      "execution_count": null,
      "outputs": [
        {
          "output_type": "stream",
          "name": "stdout",
          "text": [
            "010 1111 2222\n"
          ]
        },
        {
          "output_type": "error",
          "ename": "TypeError",
          "evalue": "ignored",
          "traceback": [
            "\u001b[0;31m---------------------------------------------------------------------------\u001b[0m",
            "\u001b[0;31mTypeError\u001b[0m                                 Traceback (most recent call last)",
            "\u001b[0;32m<ipython-input-8-f5a415e5257c>\u001b[0m in \u001b[0;36m<module>\u001b[0;34m\u001b[0m\n\u001b[1;32m      2\u001b[0m \u001b[0mphone_number\u001b[0m \u001b[0;34m=\u001b[0m \u001b[0;34m\"010-1111-2222\"\u001b[0m\u001b[0;34m\u001b[0m\u001b[0;34m\u001b[0m\u001b[0m\n\u001b[1;32m      3\u001b[0m \u001b[0mprint\u001b[0m\u001b[0;34m(\u001b[0m\u001b[0mphone_number\u001b[0m\u001b[0;34m.\u001b[0m\u001b[0mreplace\u001b[0m\u001b[0;34m(\u001b[0m\u001b[0;34m'-'\u001b[0m\u001b[0;34m,\u001b[0m\u001b[0;34m' '\u001b[0m\u001b[0;34m)\u001b[0m\u001b[0;34m)\u001b[0m\u001b[0;34m\u001b[0m\u001b[0;34m\u001b[0m\u001b[0m\n\u001b[0;32m----> 4\u001b[0;31m \u001b[0;32mdel\u001b[0m \u001b[0mphone_number\u001b[0m\u001b[0;34m[\u001b[0m\u001b[0;36m0\u001b[0m\u001b[0;34m]\u001b[0m\u001b[0;34m\u001b[0m\u001b[0;34m\u001b[0m\u001b[0m\n\u001b[0m\u001b[1;32m      5\u001b[0m \u001b[0;31m# 완료\u001b[0m\u001b[0;34m\u001b[0m\u001b[0;34m\u001b[0m\u001b[0;34m\u001b[0m\u001b[0m\n",
            "\u001b[0;31mTypeError\u001b[0m: 'str' object doesn't support item deletion"
          ]
        }
      ]
    },
    {
      "cell_type": "code",
      "source": [
        "# 26 번\n",
        "phone_number = \"010-1111-2222\"\n",
        "print(phone_number.replace('-',''))\n",
        "# 완료"
      ],
      "metadata": {
        "colab": {
          "base_uri": "https://localhost:8080/"
        },
        "id": "lbWFjvR2G19b",
        "outputId": "f6af5b05-d6e8-4d89-c79a-514a0b9d094d"
      },
      "execution_count": null,
      "outputs": [
        {
          "output_type": "stream",
          "name": "stdout",
          "text": [
            "01011112222\n"
          ]
        }
      ]
    },
    {
      "cell_type": "code",
      "source": [
        "# 27 번\n",
        "url = \"http://sharebook.kr\"\n",
        "#print(url[:-3:-1])\n",
        "print((url.split('.'))[1])\n",
        "print((url.split('.'))[-1])\n",
        "len(url)\n",
        "print(url[-2:])\n",
        "print(url[17:])\n",
        "# 완료"
      ],
      "metadata": {
        "colab": {
          "base_uri": "https://localhost:8080/"
        },
        "id": "WFFI2BnsG-ir",
        "outputId": "9354064f-0c77-44a0-ec0e-e0b740b95514"
      },
      "execution_count": null,
      "outputs": [
        {
          "output_type": "stream",
          "name": "stdout",
          "text": [
            "kr\n",
            "kr\n",
            "kr\n",
            "kr\n"
          ]
        }
      ]
    },
    {
      "cell_type": "code",
      "source": [
        "# 28 번\n",
        "lang = 'python'\n",
        "lang[0] = 'P'\n",
        "print(lang)\n",
        "print('python')\n",
        "# 완료"
      ],
      "metadata": {
        "id": "T-mUIW-hHP37",
        "colab": {
          "base_uri": "https://localhost:8080/",
          "height": 246
        },
        "outputId": "1426f977-31ba-4742-f744-d2f0d2d8212f"
      },
      "execution_count": null,
      "outputs": [
        {
          "output_type": "error",
          "ename": "TypeError",
          "evalue": "ignored",
          "traceback": [
            "\u001b[0;31m---------------------------------------------------------------------------\u001b[0m",
            "\u001b[0;31mTypeError\u001b[0m                                 Traceback (most recent call last)",
            "\u001b[0;32m<ipython-input-13-97893ea91b1c>\u001b[0m in \u001b[0;36m<module>\u001b[0;34m\u001b[0m\n\u001b[1;32m      1\u001b[0m \u001b[0;31m# 28 번\u001b[0m\u001b[0;34m\u001b[0m\u001b[0;34m\u001b[0m\u001b[0;34m\u001b[0m\u001b[0m\n\u001b[1;32m      2\u001b[0m \u001b[0mlang\u001b[0m \u001b[0;34m=\u001b[0m \u001b[0;34m'python'\u001b[0m\u001b[0;34m\u001b[0m\u001b[0;34m\u001b[0m\u001b[0m\n\u001b[0;32m----> 3\u001b[0;31m \u001b[0mlang\u001b[0m\u001b[0;34m[\u001b[0m\u001b[0;36m0\u001b[0m\u001b[0;34m]\u001b[0m \u001b[0;34m=\u001b[0m \u001b[0;34m'P'\u001b[0m\u001b[0;34m\u001b[0m\u001b[0;34m\u001b[0m\u001b[0m\n\u001b[0m\u001b[1;32m      4\u001b[0m \u001b[0mprint\u001b[0m\u001b[0;34m(\u001b[0m\u001b[0mlang\u001b[0m\u001b[0;34m)\u001b[0m\u001b[0;34m\u001b[0m\u001b[0;34m\u001b[0m\u001b[0m\n\u001b[1;32m      5\u001b[0m \u001b[0mprint\u001b[0m\u001b[0;34m(\u001b[0m\u001b[0;34m'python'\u001b[0m\u001b[0;34m)\u001b[0m\u001b[0;34m\u001b[0m\u001b[0;34m\u001b[0m\u001b[0m\n",
            "\u001b[0;31mTypeError\u001b[0m: 'str' object does not support item assignment"
          ]
        }
      ]
    },
    {
      "cell_type": "markdown",
      "source": [
        "　　 에러 : 문자열은 수정 불가　　'str' object does not support item assignment"
      ],
      "metadata": {
        "id": "XeLngIOAgVu3"
      }
    },
    {
      "cell_type": "code",
      "source": [
        "# 29 번 : 특정문자 대문자\n",
        "string = 'abcdfe2a354a32a'\n",
        "#string = string.replace('a','A')\n",
        "#print(string.upper('a','A'))\n",
        "print(string.upper())\n",
        "print(string)\n",
        "print(string.replace('a','A'))\n",
        "# 완료"
      ],
      "metadata": {
        "id": "CMKBwSyIHe8b",
        "colab": {
          "base_uri": "https://localhost:8080/"
        },
        "outputId": "7fa5cb55-3082-488c-9209-d2b4d57ef23c"
      },
      "execution_count": null,
      "outputs": [
        {
          "output_type": "stream",
          "name": "stdout",
          "text": [
            "ABCDFE2A354A32A\n",
            "abcdfe2a354a32a\n",
            "Abcdfe2A354A32A\n"
          ]
        }
      ]
    },
    {
      "cell_type": "code",
      "source": [
        "# 30 번\n",
        "string = 'abcd'\n",
        "string.replace('b','B')\n",
        "#string = string.replace('b','B')\n",
        "print(string)\n",
        "print('aBcd')\n",
        "# 완료"
      ],
      "metadata": {
        "colab": {
          "base_uri": "https://localhost:8080/"
        },
        "id": "xkREMKBKHu26",
        "outputId": "9b726fa3-6b46-4e37-e6b3-db7ecd99b8f9"
      },
      "execution_count": null,
      "outputs": [
        {
          "output_type": "stream",
          "name": "stdout",
          "text": [
            "abcd\n",
            "aBcd\n"
          ]
        }
      ]
    },
    {
      "cell_type": "markdown",
      "source": [
        "# 　　**30 번까지 완료**\n",
        "\n",
        "---"
      ],
      "metadata": {
        "id": "ubf8gbmLOGY-"
      }
    },
    {
      "cell_type": "code",
      "source": [
        "# 31 번\n",
        "a = \"3\"\n",
        "b = \"4\"\n",
        "print(a + b)\n",
        "34\n",
        "print(type(a + b))\n",
        "# 완료\n",
        "print(a,b)"
      ],
      "metadata": {
        "id": "klS1rHZLIFMr",
        "colab": {
          "base_uri": "https://localhost:8080/"
        },
        "outputId": "39e386a2-c69a-4e41-fbae-b64b31b77f44"
      },
      "execution_count": null,
      "outputs": [
        {
          "output_type": "stream",
          "name": "stdout",
          "text": [
            "34\n",
            "<class 'str'>\n",
            "3 4\n"
          ]
        }
      ]
    },
    {
      "cell_type": "code",
      "source": [
        "# 32 번\n",
        "print(\"Hi\" * 3)\n",
        "print(\"HiHiHi\")\n",
        "# 완료"
      ],
      "metadata": {
        "colab": {
          "base_uri": "https://localhost:8080/"
        },
        "id": "THSg7IAzi-BI",
        "outputId": "3df75438-b277-4e0b-8bef-677e786123da"
      },
      "execution_count": null,
      "outputs": [
        {
          "output_type": "stream",
          "name": "stdout",
          "text": [
            "HiHiHi\n",
            "HiHiHi\n"
          ]
        }
      ]
    },
    {
      "cell_type": "code",
      "source": [
        "# 33 번\n",
        "print('-' * 80)\n",
        "len('-' * 80)\n",
        "# 완료"
      ],
      "metadata": {
        "colab": {
          "base_uri": "https://localhost:8080/"
        },
        "id": "SB_AlQ1XkXoa",
        "outputId": "fe98f0bd-688b-4dfe-9881-72245f859cd3"
      },
      "execution_count": null,
      "outputs": [
        {
          "output_type": "stream",
          "name": "stdout",
          "text": [
            "--------------------------------------------------------------------------------\n"
          ]
        },
        {
          "output_type": "execute_result",
          "data": {
            "text/plain": [
              "80"
            ]
          },
          "metadata": {},
          "execution_count": 36
        }
      ]
    },
    {
      "cell_type": "code",
      "source": [
        "# 34 번\n",
        "t1 = 'python'\n",
        "t2 = 'java'\n",
        "print((t1 + t2) * 4)\n",
        "print((t1,t2)*4)\n",
        "#print((t1 + t2) * 4 , )\n",
        "t3 = t1 , t2\n",
        "print(t3)\n",
        "print(((t1 + t2) * 4).replace('n','n ').replace('p',' p'))\n",
        "print((t1 + ' ' + t2 + ' ') * 4)"
      ],
      "metadata": {
        "colab": {
          "base_uri": "https://localhost:8080/"
        },
        "id": "42B0cPEWkm4u",
        "outputId": "6d0dd177-0344-4b7a-9bb9-64b3848dc9a2"
      },
      "execution_count": null,
      "outputs": [
        {
          "output_type": "stream",
          "name": "stdout",
          "text": [
            "pythonjavapythonjavapythonjavapythonjava\n",
            "('python', 'java', 'python', 'java', 'python', 'java', 'python', 'java')\n",
            "('python', 'java')\n",
            " python java python java python java python java\n",
            "python java python java python java python java \n"
          ]
        }
      ]
    },
    {
      "cell_type": "markdown",
      "source": [
        "　　 문자열끼리 더한후 곱셈"
      ],
      "metadata": {
        "id": "MYMPIKDaEkqj"
      }
    },
    {
      "cell_type": "code",
      "source": [
        "# 35 번\n",
        "name1 = \"김민수\"\n",
        "age1 = 10\n",
        "name2 = \"이철희\"\n",
        "age2 = 13\n",
        "print(\"이름:\",name1,\"나이:\",age1)\n",
        "print(\"이름:\",name2,\"나이:\",age2)\n",
        "# 완료\n",
        "print(\"이름: %s 나이: %d\" % (name1,age1))"
      ],
      "metadata": {
        "colab": {
          "base_uri": "https://localhost:8080/"
        },
        "id": "uv2yLYv7mJmq",
        "outputId": "2033ebc9-6c24-4a4b-d624-825b747b470c"
      },
      "execution_count": null,
      "outputs": [
        {
          "output_type": "stream",
          "name": "stdout",
          "text": [
            "이름: 김민수 나이: 10\n",
            "이름: 이철희 나이: 13\n",
            "이름: 김민수 나이: 10\n"
          ]
        }
      ]
    },
    {
      "cell_type": "markdown",
      "source": [
        "　　 % formatting 은 %s : 문자열 , %d : 정수형 데이터타입 (뒤에 % 후 변수 이름)"
      ],
      "metadata": {
        "id": "8CIX9ZOwFBH0"
      }
    },
    {
      "cell_type": "code",
      "source": [
        "# 36 번\n",
        "name1 = \"김민수\"\n",
        "age1 = 10\n",
        "name2 = \"이철희\"\n",
        "age2 = 13\n",
        "print(\"이름: {} 나이: {}\".format(name1,age1))\n",
        "print(\"이름: {} 나이: {}\".format(name2,age2))\n",
        "# 완료"
      ],
      "metadata": {
        "id": "iXrqb7D7pr7V"
      },
      "execution_count": null,
      "outputs": []
    },
    {
      "cell_type": "code",
      "source": [
        "# 37 번 ??\n",
        "name1 = \"김민수\"\n",
        "age1 = 10\n",
        "name2 = \"이철희\"\n",
        "age2 = 13\n",
        "print(\"이름:\",name1,\"나이:\",str(age1))\n",
        "print(\"이름:\",name2,\"나이:\",str(age2))\n",
        "print(\"이름: \" + name1,\"나이: \" + str(age1))\n",
        "print(f\"이름: {name1} 나이: {age1}\")"
      ],
      "metadata": {
        "colab": {
          "base_uri": "https://localhost:8080/"
        },
        "id": "nFcKgW6xrYjJ",
        "outputId": "d45a69c7-704a-4664-eb8c-d0c1e7ab8905"
      },
      "execution_count": null,
      "outputs": [
        {
          "output_type": "stream",
          "name": "stdout",
          "text": [
            "이름: 김민수 나이: 10\n",
            "이름: 이철희 나이: 13\n",
            "이름: 김민수 나이: 10\n",
            "이름: 김민수 나이: 10\n"
          ]
        }
      ]
    },
    {
      "cell_type": "markdown",
      "source": [
        "　　 f-string 은 f\" {변수} \" "
      ],
      "metadata": {
        "id": "0n1F_m50F66a"
      }
    },
    {
      "cell_type": "code",
      "source": [
        "# 38 번\n",
        "상장주식수 = \"5,969,782,550\"\n",
        "print(int(상장주식수.replace(',','')) , type(int(상장주식수.replace(',',''))))\n",
        "print(type(int(상장주식수.replace(',',''))))\n",
        "# 완료"
      ],
      "metadata": {
        "colab": {
          "base_uri": "https://localhost:8080/"
        },
        "id": "liSy8xcWBr-_",
        "outputId": "af0f953c-3b45-4921-8b41-b5194c1500c3"
      },
      "execution_count": null,
      "outputs": [
        {
          "output_type": "stream",
          "name": "stdout",
          "text": [
            "5969782550 <class 'int'>\n",
            "<class 'int'>\n"
          ]
        }
      ]
    },
    {
      "cell_type": "code",
      "source": [
        "# 39 번\n",
        "분기 = \"2020/03(E) (IFRS연결)\"\n",
        "print(분기[:7])\n",
        "# 완료"
      ],
      "metadata": {
        "colab": {
          "base_uri": "https://localhost:8080/"
        },
        "id": "nJNioCGwB9AK",
        "outputId": "2d9a334a-05d3-4b75-a8f8-c4d1d398951f"
      },
      "execution_count": null,
      "outputs": [
        {
          "output_type": "stream",
          "name": "stdout",
          "text": [
            "2020/03\n"
          ]
        }
      ]
    },
    {
      "cell_type": "code",
      "source": [
        "# 40 번\n",
        "data = \"   삼성전자    \"\n",
        "print(data.strip())\n",
        "# 완료"
      ],
      "metadata": {
        "colab": {
          "base_uri": "https://localhost:8080/"
        },
        "id": "Nc3ppIf3CSoJ",
        "outputId": "bd4dc013-47d3-4cef-8c6e-6fe3ca3c093d"
      },
      "execution_count": null,
      "outputs": [
        {
          "output_type": "stream",
          "name": "stdout",
          "text": [
            "삼성전자\n"
          ]
        }
      ]
    },
    {
      "cell_type": "markdown",
      "source": [
        "# 　**40 번까지 완료**\n",
        "---"
      ],
      "metadata": {
        "id": "Qx479irlHDNA"
      }
    },
    {
      "cell_type": "code",
      "source": [
        "# 41 번\n",
        "ticker = \"btc_krw\"\n",
        "print(ticker.upper())\n",
        "print(ticker)\n",
        "# 완료"
      ],
      "metadata": {
        "colab": {
          "base_uri": "https://localhost:8080/"
        },
        "id": "2cID46kFCpUa",
        "outputId": "fdd95593-872a-4cdb-990a-39ee51420070"
      },
      "execution_count": null,
      "outputs": [
        {
          "output_type": "stream",
          "name": "stdout",
          "text": [
            "BTC_KRW\n",
            "btc_krw\n"
          ]
        }
      ]
    },
    {
      "cell_type": "code",
      "source": [
        "# 42 번\n",
        "ticker = \"BTC_KRW\"\n",
        "print(ticker.lower())\n",
        "# 완료"
      ],
      "metadata": {
        "colab": {
          "base_uri": "https://localhost:8080/"
        },
        "id": "oVCZP0DQHhSc",
        "outputId": "6204fbb5-792d-47fd-e155-9aea9dfde74d"
      },
      "execution_count": null,
      "outputs": [
        {
          "output_type": "stream",
          "name": "stdout",
          "text": [
            "btc_krw\n"
          ]
        }
      ]
    },
    {
      "cell_type": "code",
      "source": [
        "# 43 번\n",
        "say = 'hello'\n",
        "#print(say.upper('h'))\n",
        "print(say.capitalize())"
      ],
      "metadata": {
        "colab": {
          "base_uri": "https://localhost:8080/"
        },
        "id": "1jg8ONCOHufc",
        "outputId": "e5a9363a-bfe7-483a-b6b2-96891c5b191e"
      },
      "execution_count": null,
      "outputs": [
        {
          "output_type": "stream",
          "name": "stdout",
          "text": [
            "Hello\n"
          ]
        }
      ]
    },
    {
      "cell_type": "markdown",
      "source": [
        "　　 맨앞 대문자 capitalize"
      ],
      "metadata": {
        "id": "VdjghIoo2_HL"
      }
    },
    {
      "cell_type": "code",
      "source": [
        "# 44 번\n",
        "file_name = \"보고서.xlsx\"\n",
        "file_name.endswith('xlsx')"
      ],
      "metadata": {
        "id": "Z5TanHS9H7YL",
        "colab": {
          "base_uri": "https://localhost:8080/"
        },
        "outputId": "e52dd0a5-dbaf-48bb-b9bc-c2203e9e5501"
      },
      "execution_count": null,
      "outputs": [
        {
          "output_type": "execute_result",
          "data": {
            "text/plain": [
              "True"
            ]
          },
          "metadata": {},
          "execution_count": 5
        }
      ]
    },
    {
      "cell_type": "markdown",
      "source": [
        "　　 endswith"
      ],
      "metadata": {
        "id": "SlrOGsXD3P0i"
      }
    },
    {
      "cell_type": "code",
      "source": [
        "# 45 번\n",
        "file_name = \"보고서.xlsx\"\n",
        "#file_name.endswith('xlsx','xls')\n",
        "#file_name.endswith('xlsx'\\'xls')\n",
        "#file_name.endswith('xlsx'|'xls')\n",
        "file_name.endswith(('xlsx','xls'))"
      ],
      "metadata": {
        "id": "c-0jKkfEIG7s",
        "colab": {
          "base_uri": "https://localhost:8080/"
        },
        "outputId": "afef8725-a1ac-4cda-c23b-7674273f2b98"
      },
      "execution_count": null,
      "outputs": [
        {
          "output_type": "execute_result",
          "data": {
            "text/plain": [
              "True"
            ]
          },
          "metadata": {},
          "execution_count": 10
        }
      ]
    },
    {
      "cell_type": "markdown",
      "source": [
        "　　 slice indices must be integers or None or have an __index__ method\n",
        "\n",
        "　　 endswith 여러개 확인"
      ],
      "metadata": {
        "id": "NQ2aiH1p3uJs"
      }
    },
    {
      "cell_type": "code",
      "source": [
        "# 46 번\n",
        "file_name = \"2020_보고서.xlsx\"\n",
        "file_name.startswith('2020')"
      ],
      "metadata": {
        "id": "Wej6D1PwIMEM",
        "colab": {
          "base_uri": "https://localhost:8080/"
        },
        "outputId": "ee97b2df-f330-4389-ce47-8c27d1ed8fb4"
      },
      "execution_count": null,
      "outputs": [
        {
          "output_type": "execute_result",
          "data": {
            "text/plain": [
              "True"
            ]
          },
          "metadata": {},
          "execution_count": 11
        }
      ]
    },
    {
      "cell_type": "code",
      "source": [
        "# 47 번\n",
        "a = \"hello world\"\n",
        "print(a.split(' '))\n",
        "print(a.split())\n",
        "# 완료"
      ],
      "metadata": {
        "colab": {
          "base_uri": "https://localhost:8080/"
        },
        "id": "zkMt9nKoISBs",
        "outputId": "08f9aff8-8038-4edb-9c1b-951ef5b8743e"
      },
      "execution_count": null,
      "outputs": [
        {
          "output_type": "stream",
          "name": "stdout",
          "text": [
            "['hello', 'world']\n",
            "['hello', 'world']\n"
          ]
        }
      ]
    },
    {
      "cell_type": "markdown",
      "source": [
        "　　 alt 방향키 : 코드 위치 변경\n",
        "\n",
        "　　 기본적으로 공백 기준으로 분리"
      ],
      "metadata": {
        "id": "vkCaBCZO4YKH"
      }
    },
    {
      "cell_type": "code",
      "source": [
        "# 48 번\n",
        "ticker = \"btc_krw\"\n",
        "print(ticker.split('_'))\n",
        "ticker.split('_')\n",
        "# 완료"
      ],
      "metadata": {
        "colab": {
          "base_uri": "https://localhost:8080/"
        },
        "id": "97ATLghaIY57",
        "outputId": "867342ea-f6eb-44f6-cae3-3db9e6472ed4"
      },
      "execution_count": null,
      "outputs": [
        {
          "output_type": "stream",
          "name": "stdout",
          "text": [
            "['btc', 'krw']\n"
          ]
        },
        {
          "output_type": "execute_result",
          "data": {
            "text/plain": [
              "['btc', 'krw']"
            ]
          },
          "metadata": {},
          "execution_count": 13
        }
      ]
    },
    {
      "cell_type": "code",
      "source": [
        "# 49 번\n",
        "date = \"2020-05-01\"\n",
        "print(date.split('-'))"
      ],
      "metadata": {
        "colab": {
          "base_uri": "https://localhost:8080/"
        },
        "id": "gXUhi6QxImZf",
        "outputId": "e035a589-d1db-44b2-d4eb-4bf2fd9f729e"
      },
      "execution_count": null,
      "outputs": [
        {
          "output_type": "stream",
          "name": "stdout",
          "text": [
            "['2020', '05', '01']\n"
          ]
        }
      ]
    },
    {
      "cell_type": "code",
      "source": [
        "# 50 번\n",
        "data = \"039490     \"\n",
        "print(data.rstrip())\n",
        "# 완료"
      ],
      "metadata": {
        "colab": {
          "base_uri": "https://localhost:8080/"
        },
        "id": "FkDm3qQ1It0r",
        "outputId": "fe309e96-bfda-4bba-f78c-113311b71e22"
      },
      "execution_count": null,
      "outputs": [
        {
          "output_type": "stream",
          "name": "stdout",
          "text": [
            "039490\n"
          ]
        }
      ]
    },
    {
      "cell_type": "markdown",
      "source": [
        "# 　**50 번까지 완료**\n",
        "---"
      ],
      "metadata": {
        "id": "MlLKBf074wWl"
      }
    },
    {
      "cell_type": "code",
      "source": [
        "# 51 번\n",
        "movie_rank = ['닥터 스트레인지','스플릿','럭키']\n",
        "print(movie_rank , type(movie_rank))\n",
        "# 완료"
      ],
      "metadata": {
        "colab": {
          "base_uri": "https://localhost:8080/"
        },
        "id": "T591wX1xI4ff",
        "outputId": "4c222697-57c2-4ff0-d55a-715606d0440a"
      },
      "execution_count": null,
      "outputs": [
        {
          "output_type": "stream",
          "name": "stdout",
          "text": [
            "['닥터 스트레인지', '스플릿', '럭키'] <class 'list'>\n"
          ]
        }
      ]
    },
    {
      "cell_type": "code",
      "source": [
        "# 52 번\n",
        "movie_rank = ['닥터 스트레인지','스플릿','럭키']\n",
        "#print(movie_rank.append(\"배트맨\"))\n",
        "movie_rank.append(\"배트맨\")\n",
        "print(movie_rank)\n",
        "movie_rank"
      ],
      "metadata": {
        "colab": {
          "base_uri": "https://localhost:8080/"
        },
        "id": "aMz3GN2tJNTR",
        "outputId": "5cb4780d-cc7b-46f4-aff7-e5d2adbc5616"
      },
      "execution_count": null,
      "outputs": [
        {
          "output_type": "stream",
          "name": "stdout",
          "text": [
            "['닥터 스트레인지', '스플릿', '럭키', '배트맨']\n"
          ]
        },
        {
          "output_type": "execute_result",
          "data": {
            "text/plain": [
              "['닥터 스트레인지', '스플릿', '럭키', '배트맨']"
            ]
          },
          "metadata": {},
          "execution_count": 19
        }
      ]
    },
    {
      "cell_type": "code",
      "source": [
        "# 53 번\n",
        "movie_rank = ['닥터 스트레인지', '스플릿', '럭키', '배트맨']\n",
        "#movie_rank[1] = \"슈퍼맨\"\n",
        "#movie_rank.append(\"슈퍼맨\")[1]\n",
        "movie_rank.insert(1,'슈퍼맨')\n",
        "print(movie_rank)"
      ],
      "metadata": {
        "colab": {
          "base_uri": "https://localhost:8080/"
        },
        "id": "uozLAN2UJamv",
        "outputId": "f449d5f4-944d-40df-ce65-011ebcd65257"
      },
      "execution_count": null,
      "outputs": [
        {
          "output_type": "stream",
          "name": "stdout",
          "text": [
            "['닥터 스트레인지', '슈퍼맨', '스플릿', '럭키', '배트맨']\n"
          ]
        }
      ]
    },
    {
      "cell_type": "markdown",
      "source": [
        "　　 insert(위치,원소)"
      ],
      "metadata": {
        "id": "5lWXhNHn6D2y"
      }
    },
    {
      "cell_type": "code",
      "source": [
        "# 54 번\n",
        "movie_rank = ['닥터 스트레인지','슈퍼맨','스플릿', '럭키', '배트맨']\n",
        "del movie_rank[3]\n",
        "#del movie_rank['럭키']\n",
        "print(movie_rank)\n",
        "#print(del movie_rank[3])\n",
        "# 완료"
      ],
      "metadata": {
        "colab": {
          "base_uri": "https://localhost:8080/"
        },
        "id": "YjqF3hHlKIFM",
        "outputId": "d1016e5f-70de-4194-95cb-81444cd6080f"
      },
      "execution_count": null,
      "outputs": [
        {
          "output_type": "stream",
          "name": "stdout",
          "text": [
            "['닥터 스트레인지', '슈퍼맨', '스플릿', '배트맨']\n"
          ]
        }
      ]
    },
    {
      "cell_type": "code",
      "source": [
        "# 55 번\n",
        "movie_rank = ['닥터 스트레인지', '슈퍼맨', '스플릿', '배트맨']\n",
        "#del movie_rank[2,3]\n",
        "del movie_rank[2:]\n",
        "#del movie_rank[2] 2 번\n",
        "print(movie_rank)\n",
        "# 완료"
      ],
      "metadata": {
        "colab": {
          "base_uri": "https://localhost:8080/"
        },
        "id": "5X9E7vUWKumc",
        "outputId": "2203bf85-9e11-44c8-e35e-c20de8f9b847"
      },
      "execution_count": null,
      "outputs": [
        {
          "output_type": "stream",
          "name": "stdout",
          "text": [
            "['닥터 스트레인지', '슈퍼맨']\n"
          ]
        }
      ]
    },
    {
      "cell_type": "code",
      "source": [
        "# 56 번\n",
        "lang1 = [\"C\",\"C++\",\"JAVA\"]\n",
        "lang2 = [\"Python\",\"Go\",\"C#\"]\n",
        "langs = lang1 + lang2\n",
        "print(langs)\n",
        "# 완료"
      ],
      "metadata": {
        "colab": {
          "base_uri": "https://localhost:8080/"
        },
        "id": "Msiv_xnOLZK8",
        "outputId": "6c3d64ee-8176-463f-e855-83df78f41ab9"
      },
      "execution_count": null,
      "outputs": [
        {
          "output_type": "stream",
          "name": "stdout",
          "text": [
            "['C', 'C++', 'JAVA', 'Python', 'Go', 'C#']\n"
          ]
        }
      ]
    },
    {
      "cell_type": "code",
      "source": [
        "# 57 번\n",
        "nums = [1,2,3,4,5,6,7]\n",
        "#print(nums.max())\n",
        "print('max : ', max(nums))\n",
        "print('min : ', min(nums))\n",
        "# 완료"
      ],
      "metadata": {
        "colab": {
          "base_uri": "https://localhost:8080/"
        },
        "id": "kGRFZwkGLyWs",
        "outputId": "6acbf802-e4be-4b81-f5f2-69cdf52067a9"
      },
      "execution_count": null,
      "outputs": [
        {
          "output_type": "stream",
          "name": "stdout",
          "text": [
            "max :  7\n",
            "min :  1\n"
          ]
        }
      ]
    },
    {
      "cell_type": "code",
      "source": [
        "# 58 번\n",
        "nums = [1,2,3,4,5]\n",
        "print(sum(nums))\n",
        "# 완료"
      ],
      "metadata": {
        "colab": {
          "base_uri": "https://localhost:8080/"
        },
        "id": "cL3Wyis1L6iR",
        "outputId": "f4aa4957-89e6-4072-e303-07648e0173fc"
      },
      "execution_count": null,
      "outputs": [
        {
          "output_type": "stream",
          "name": "stdout",
          "text": [
            "15\n"
          ]
        }
      ]
    },
    {
      "cell_type": "code",
      "source": [
        "# 59 번\n",
        "cook = [\"피자\", \"김밥\", \"만두\", \"양념치킨\", \"족발\", \"피자\", \"김치만두\", \"쫄면\", \"소시지\", \"라면\", \"팥빙수\", \"김치전\"]\n",
        "len(cook)\n",
        "# 완료"
      ],
      "metadata": {
        "colab": {
          "base_uri": "https://localhost:8080/"
        },
        "id": "rw0T78yNML19",
        "outputId": "4ef0ceb0-fb2c-4339-ca4e-403bdd151ada"
      },
      "execution_count": null,
      "outputs": [
        {
          "output_type": "execute_result",
          "data": {
            "text/plain": [
              "12"
            ]
          },
          "metadata": {},
          "execution_count": 96
        }
      ]
    },
    {
      "cell_type": "code",
      "source": [
        "# 60 번\n",
        "nums = [1,2,3,4,5]\n",
        "#print(nums.mean())\n",
        "print(sum(nums) / len(nums))"
      ],
      "metadata": {
        "colab": {
          "base_uri": "https://localhost:8080/"
        },
        "id": "O98R9T6rMXg9",
        "outputId": "8587c571-f80a-4f53-c41b-57bf0d8de2e2"
      },
      "execution_count": null,
      "outputs": [
        {
          "output_type": "stream",
          "name": "stdout",
          "text": [
            "3.0\n"
          ]
        }
      ]
    },
    {
      "cell_type": "markdown",
      "source": [
        "# 　**60 번까지 완료**\n",
        "---"
      ],
      "metadata": {
        "id": "28tkqdfM5R5M"
      }
    },
    {
      "cell_type": "code",
      "source": [
        "# 61 번\n",
        "price = ['20180728', 100, 130, 140, 150, 160, 170]\n",
        "price[1:]"
      ],
      "metadata": {
        "id": "ewpdViYKMfN8",
        "colab": {
          "base_uri": "https://localhost:8080/"
        },
        "outputId": "7d5b9345-22d6-4de2-e05c-d68b18a76aa1"
      },
      "execution_count": null,
      "outputs": [
        {
          "output_type": "execute_result",
          "data": {
            "text/plain": [
              "[100, 130, 140, 150, 160, 170]"
            ]
          },
          "metadata": {},
          "execution_count": 27
        }
      ]
    },
    {
      "cell_type": "code",
      "source": [
        "# 62 번\n",
        "nums = [1, 2, 3, 4, 5, 6, 7, 8, 9, 10]\n",
        "nums[::2]"
      ],
      "metadata": {
        "colab": {
          "base_uri": "https://localhost:8080/"
        },
        "id": "jpkYraHS7jZd",
        "outputId": "dc9160ca-36da-49b6-8004-1e94c24e7080"
      },
      "execution_count": null,
      "outputs": [
        {
          "output_type": "execute_result",
          "data": {
            "text/plain": [
              "[1, 3, 5, 7, 9]"
            ]
          },
          "metadata": {},
          "execution_count": 29
        }
      ]
    },
    {
      "cell_type": "code",
      "source": [
        "# 63 번\n",
        "nums = [1, 2, 3, 4, 5, 6, 7, 8, 9, 10]\n",
        "nums[1::2]"
      ],
      "metadata": {
        "colab": {
          "base_uri": "https://localhost:8080/"
        },
        "id": "QumK-NdN7tG9",
        "outputId": "894f9c3b-fde8-41d8-ab13-68f9bbd6b349"
      },
      "execution_count": null,
      "outputs": [
        {
          "output_type": "execute_result",
          "data": {
            "text/plain": [
              "[2, 4, 6, 8, 10]"
            ]
          },
          "metadata": {},
          "execution_count": 30
        }
      ]
    },
    {
      "cell_type": "code",
      "source": [
        "# 64 번\n",
        "nums = [1, 2, 3, 4, 5]\n",
        "nums[::-1]"
      ],
      "metadata": {
        "colab": {
          "base_uri": "https://localhost:8080/"
        },
        "id": "oE7vtL_p76JO",
        "outputId": "0512e3e1-2256-481d-854a-05ea349fd436"
      },
      "execution_count": null,
      "outputs": [
        {
          "output_type": "execute_result",
          "data": {
            "text/plain": [
              "[5, 4, 3, 2, 1]"
            ]
          },
          "metadata": {},
          "execution_count": 31
        }
      ]
    },
    {
      "cell_type": "code",
      "source": [
        "# 65 번\n",
        "interest = ['삼성전자', 'LG전자', 'Naver']\n",
        "print(interest[::2])\n",
        "print(interest[0], interest[2])"
      ],
      "metadata": {
        "colab": {
          "base_uri": "https://localhost:8080/"
        },
        "id": "ORI6wR4K8A99",
        "outputId": "aa69be68-b26b-4dba-bd96-087edb15d156"
      },
      "execution_count": null,
      "outputs": [
        {
          "output_type": "stream",
          "name": "stdout",
          "text": [
            "['삼성전자', 'Naver']\n",
            "삼성전자 Naver\n"
          ]
        }
      ]
    },
    {
      "cell_type": "markdown",
      "source": [
        "*   하나씩 호출해서 활용할수있음"
      ],
      "metadata": {
        "id": "eS-qbB4H-Cz4"
      }
    },
    {
      "cell_type": "code",
      "source": [
        "# 66 번\n",
        "interest = ['삼성전자', 'LG전자', 'Naver', 'SK하이닉스', '미래에셋대우']\n",
        "print(' '.join(interest))"
      ],
      "metadata": {
        "colab": {
          "base_uri": "https://localhost:8080/"
        },
        "id": "aSkz0rlI8O79",
        "outputId": "5c034d25-9eab-4c77-bf20-7b830211a099"
      },
      "execution_count": null,
      "outputs": [
        {
          "output_type": "stream",
          "name": "stdout",
          "text": [
            "삼성전자 LG전자 Naver SK하이닉스 미래에셋대우\n"
          ]
        }
      ]
    },
    {
      "cell_type": "markdown",
      "source": [
        "\n",
        "\n",
        "*   ??\n"
      ],
      "metadata": {
        "id": "-tv6Etp--iAA"
      }
    },
    {
      "cell_type": "code",
      "source": [
        "# 67 번\n",
        "interest = ['삼성전자', 'LG전자', 'Naver', 'SK하이닉스', '미래에셋대우']\n",
        "print('/'.join(interest))"
      ],
      "metadata": {
        "colab": {
          "base_uri": "https://localhost:8080/"
        },
        "id": "EyCuEgSx8ljH",
        "outputId": "b5c12300-1b43-46ad-d808-436006685ffa"
      },
      "execution_count": null,
      "outputs": [
        {
          "output_type": "stream",
          "name": "stdout",
          "text": [
            "삼성전자/LG전자/Naver/SK하이닉스/미래에셋대우\n"
          ]
        }
      ]
    },
    {
      "cell_type": "code",
      "source": [
        "# 68 번\n",
        "interest = ['삼성전자', 'LG전자', 'Naver', 'SK하이닉스', '미래에셋대우']\n",
        "print('\\n'.join(interest))"
      ],
      "metadata": {
        "colab": {
          "base_uri": "https://localhost:8080/"
        },
        "id": "-1TsaSs_8wqt",
        "outputId": "ee478e6f-e920-4eb7-be08-fed795f60aec"
      },
      "execution_count": null,
      "outputs": [
        {
          "output_type": "stream",
          "name": "stdout",
          "text": [
            "삼성전자\n",
            "LG전자\n",
            "Naver\n",
            "SK하이닉스\n",
            "미래에셋대우\n"
          ]
        }
      ]
    },
    {
      "cell_type": "code",
      "source": [
        "# 69 번\n",
        "string = \"삼성전자/LG전자/Naver\"\n",
        "string = string.split('/')\n",
        "print(string)\n",
        "# 완료"
      ],
      "metadata": {
        "colab": {
          "base_uri": "https://localhost:8080/"
        },
        "id": "wIGPSe5684v9",
        "outputId": "86a8e520-e340-44bf-f4ce-c74ec5315f03"
      },
      "execution_count": null,
      "outputs": [
        {
          "output_type": "stream",
          "name": "stdout",
          "text": [
            "['삼성전자', 'LG전자', 'Naver']\n"
          ]
        }
      ]
    },
    {
      "cell_type": "code",
      "source": [
        "# 70 번\n",
        "data = [2, 4, 3, 1, 5, 10, 9]\n",
        "print(data.sort())\n",
        "print(sorted(data))\n",
        "data.sort()\n",
        "print(data)"
      ],
      "metadata": {
        "colab": {
          "base_uri": "https://localhost:8080/"
        },
        "id": "iK-Wz7K_9Aru",
        "outputId": "464d96c3-9756-4b3a-f4e6-9b1efc1ee6db"
      },
      "execution_count": null,
      "outputs": [
        {
          "output_type": "stream",
          "name": "stdout",
          "text": [
            "None\n",
            "[1, 2, 3, 4, 5, 9, 10]\n",
            "[1, 2, 3, 4, 5, 9, 10]\n"
          ]
        }
      ]
    },
    {
      "cell_type": "markdown",
      "source": [
        "# 　**70 번까지 완료**\n",
        "---"
      ],
      "metadata": {
        "id": "o7qQbdqf_h2C"
      }
    },
    {
      "cell_type": "code",
      "source": [
        "# 71 번\n",
        "my_variable = ()\n",
        "print(type(my_variable))"
      ],
      "metadata": {
        "colab": {
          "base_uri": "https://localhost:8080/"
        },
        "id": "997yTXcv9Frv",
        "outputId": "08b2f933-7a83-4895-8f0b-927bd50df5a4"
      },
      "execution_count": null,
      "outputs": [
        {
          "output_type": "stream",
          "name": "stdout",
          "text": [
            "<class 'tuple'>\n"
          ]
        }
      ]
    },
    {
      "cell_type": "code",
      "source": [
        "# 72 번\n",
        "movie_rank = ('닥터 스트레인지','스플릿','럭키')\n",
        "print(movie_rank, type(movie_rank))"
      ],
      "metadata": {
        "colab": {
          "base_uri": "https://localhost:8080/"
        },
        "id": "ZsLNCJ2S_7Xu",
        "outputId": "08239a4a-d984-4317-e022-a0d4d8821f8a"
      },
      "execution_count": null,
      "outputs": [
        {
          "output_type": "stream",
          "name": "stdout",
          "text": [
            "('닥터 스트레인지', '스플릿', '럭키') <class 'tuple'>\n"
          ]
        }
      ]
    },
    {
      "cell_type": "code",
      "source": [
        "# 73 번\n",
        "#tup = tuple()\n",
        "tup = (1)\n",
        "print(tup, type(tup))\n",
        "tup = (1,)\n",
        "print(tup, type(tup))"
      ],
      "metadata": {
        "colab": {
          "base_uri": "https://localhost:8080/"
        },
        "id": "hy-K7MZ4ADSi",
        "outputId": "d53bc8c0-7dfd-4d6b-9471-75982c3bd5d0"
      },
      "execution_count": null,
      "outputs": [
        {
          "output_type": "stream",
          "name": "stdout",
          "text": [
            "1 <class 'int'>\n",
            "(1,) <class 'tuple'>\n"
          ]
        }
      ]
    },
    {
      "cell_type": "markdown",
      "source": [
        "\n",
        "\n",
        "*   괄호안에 숫자 하나를 넣으면 정수로 인식\n",
        "*   (숫자, ) 로 입력해야함\n",
        "\n"
      ],
      "metadata": {
        "id": "9FOSmqEEEY6j"
      }
    },
    {
      "cell_type": "code",
      "source": [
        "# 74 번\n",
        "t = (1, 2, 3)\n",
        "t[0] = 'a'\n",
        "'튜플은 수정불가 하므로'"
      ],
      "metadata": {
        "colab": {
          "base_uri": "https://localhost:8080/",
          "height": 228
        },
        "id": "Fk1t10vPAUp-",
        "outputId": "57d80ace-9e91-472d-bbd9-e19b30e9d36a"
      },
      "execution_count": null,
      "outputs": [
        {
          "output_type": "error",
          "ename": "TypeError",
          "evalue": "ignored",
          "traceback": [
            "\u001b[0;31m---------------------------------------------------------------------------\u001b[0m",
            "\u001b[0;31mTypeError\u001b[0m                                 Traceback (most recent call last)",
            "\u001b[0;32m<ipython-input-61-ad5a0bd4ad6f>\u001b[0m in \u001b[0;36m<module>\u001b[0;34m\u001b[0m\n\u001b[1;32m      1\u001b[0m \u001b[0;31m# 74 번\u001b[0m\u001b[0;34m\u001b[0m\u001b[0;34m\u001b[0m\u001b[0;34m\u001b[0m\u001b[0m\n\u001b[1;32m      2\u001b[0m \u001b[0mt\u001b[0m \u001b[0;34m=\u001b[0m \u001b[0;34m(\u001b[0m\u001b[0;36m1\u001b[0m\u001b[0;34m,\u001b[0m \u001b[0;36m2\u001b[0m\u001b[0;34m,\u001b[0m \u001b[0;36m3\u001b[0m\u001b[0;34m)\u001b[0m\u001b[0;34m\u001b[0m\u001b[0;34m\u001b[0m\u001b[0m\n\u001b[0;32m----> 3\u001b[0;31m \u001b[0mt\u001b[0m\u001b[0;34m[\u001b[0m\u001b[0;36m0\u001b[0m\u001b[0;34m]\u001b[0m \u001b[0;34m=\u001b[0m \u001b[0;34m'a'\u001b[0m\u001b[0;34m\u001b[0m\u001b[0;34m\u001b[0m\u001b[0m\n\u001b[0m\u001b[1;32m      4\u001b[0m \u001b[0;34m'튜플은 수정불가 하므로'\u001b[0m\u001b[0;34m\u001b[0m\u001b[0;34m\u001b[0m\u001b[0m\n",
            "\u001b[0;31mTypeError\u001b[0m: 'tuple' object does not support item assignment"
          ]
        }
      ]
    },
    {
      "cell_type": "code",
      "source": [
        "# 75 번\n",
        "t = 1, 2, 3, 4\n",
        "#print('리스트',type(t))\n",
        "print('튜플',type(t))\n",
        "t = '가','나'\n",
        "print(type(t))"
      ],
      "metadata": {
        "colab": {
          "base_uri": "https://localhost:8080/"
        },
        "id": "Z5ZTTqWOAyFi",
        "outputId": "3af21f9d-452a-4842-ab33-3a6aa7a8f05e"
      },
      "execution_count": null,
      "outputs": [
        {
          "output_type": "stream",
          "name": "stdout",
          "text": [
            "튜플 <class 'tuple'>\n",
            "<class 'tuple'>\n"
          ]
        }
      ]
    },
    {
      "cell_type": "markdown",
      "source": [
        "\n",
        "\n",
        "*   사용자의 편의를 위해 괄호 없이도 동작\n",
        "*   따라서 여러 데이터를 그냥 저장하면 튜플\n",
        "\n"
      ],
      "metadata": {
        "id": "E8wRvTPQFEFo"
      }
    },
    {
      "cell_type": "code",
      "source": [
        "# 76 번\n",
        "t = ('a', 'b', 'c')\n",
        "#t.capitalize()\n",
        "#t[0.upper()]\n",
        "t = list(t)\n",
        "t[0] = t[0].upper()\n",
        "tuple(t)\n",
        "# 또는 새로운 t = 'A','b','c'"
      ],
      "metadata": {
        "colab": {
          "base_uri": "https://localhost:8080/"
        },
        "id": "iitpY7TtBA9-",
        "outputId": "5cb3d660-e4f3-4bf0-caf9-f344445a4bcf"
      },
      "execution_count": null,
      "outputs": [
        {
          "output_type": "execute_result",
          "data": {
            "text/plain": [
              "('A', 'b', 'c')"
            ]
          },
          "metadata": {},
          "execution_count": 94
        }
      ]
    },
    {
      "cell_type": "markdown",
      "source": [
        "　　 79 번 확인"
      ],
      "metadata": {
        "id": "tdlElv0qHPtN"
      }
    },
    {
      "cell_type": "code",
      "source": [
        "# 77 번\n",
        "interest = ('삼성전자', 'LG전자', 'SK Hynix')\n",
        "lis = list(interest)\n",
        "print(lis, type(lis))"
      ],
      "metadata": {
        "colab": {
          "base_uri": "https://localhost:8080/"
        },
        "id": "VCVCimYuBXhf",
        "outputId": "84a9b66d-c78f-482e-e69a-7a30804149e6"
      },
      "execution_count": null,
      "outputs": [
        {
          "output_type": "stream",
          "name": "stdout",
          "text": [
            "['삼성전자', 'LG전자', 'SK Hynix'] <class 'list'>\n"
          ]
        }
      ]
    },
    {
      "cell_type": "code",
      "source": [
        "# 78 번\n",
        "interest = ['삼성전자', 'LG전자', 'SK Hynix']\n",
        "tup = tuple(interest)\n",
        "print(tup, type(tup))"
      ],
      "metadata": {
        "colab": {
          "base_uri": "https://localhost:8080/"
        },
        "id": "G7-jRQhPB7nv",
        "outputId": "cb2adb4b-a371-4935-dccf-ec254898ae4a"
      },
      "execution_count": null,
      "outputs": [
        {
          "output_type": "stream",
          "name": "stdout",
          "text": [
            "('삼성전자', 'LG전자', 'SK Hynix') <class 'tuple'>\n"
          ]
        }
      ]
    },
    {
      "cell_type": "code",
      "source": [
        "# 79 번\n",
        "temp = ('apple', 'banana', 'cake')\n",
        "a, b, c = temp\n",
        "print(a, b, c)\n",
        "print('기존 temp 에서 수정했으므로 temp?')"
      ],
      "metadata": {
        "colab": {
          "base_uri": "https://localhost:8080/"
        },
        "id": "qnQ3mwZRCVi_",
        "outputId": "1324a397-d23a-40e9-8360-7d0d78370280"
      },
      "execution_count": null,
      "outputs": [
        {
          "output_type": "stream",
          "name": "stdout",
          "text": [
            "apple banana cake\n",
            "기존 temp 에서 수정했으므로 temp?\n"
          ]
        }
      ]
    },
    {
      "cell_type": "markdown",
      "source": [
        "\n",
        "\n",
        "*   ??? 위에서는 새로 대입하면 기존것은 삭제한다고\n",
        "\n"
      ],
      "metadata": {
        "id": "aX2xoOJVG-NL"
      }
    },
    {
      "cell_type": "code",
      "source": [
        "# 80 번\n",
        "t = tuple(range(1,100,1))\n",
        "print(t)\n",
        "print(len(t))\n",
        "t = tuple(range(2,100,2))\n",
        "print(t)\n",
        "print(len(t))"
      ],
      "metadata": {
        "colab": {
          "base_uri": "https://localhost:8080/"
        },
        "id": "ig91smDxCdne",
        "outputId": "8eb2ec8c-98f4-45b3-add0-7e1f9474b68e"
      },
      "execution_count": null,
      "outputs": [
        {
          "output_type": "stream",
          "name": "stdout",
          "text": [
            "(1, 2, 3, 4, 5, 6, 7, 8, 9, 10, 11, 12, 13, 14, 15, 16, 17, 18, 19, 20, 21, 22, 23, 24, 25, 26, 27, 28, 29, 30, 31, 32, 33, 34, 35, 36, 37, 38, 39, 40, 41, 42, 43, 44, 45, 46, 47, 48, 49, 50, 51, 52, 53, 54, 55, 56, 57, 58, 59, 60, 61, 62, 63, 64, 65, 66, 67, 68, 69, 70, 71, 72, 73, 74, 75, 76, 77, 78, 79, 80, 81, 82, 83, 84, 85, 86, 87, 88, 89, 90, 91, 92, 93, 94, 95, 96, 97, 98, 99)\n",
            "99\n",
            "(2, 4, 6, 8, 10, 12, 14, 16, 18, 20, 22, 24, 26, 28, 30, 32, 34, 36, 38, 40, 42, 44, 46, 48, 50, 52, 54, 56, 58, 60, 62, 64, 66, 68, 70, 72, 74, 76, 78, 80, 82, 84, 86, 88, 90, 92, 94, 96, 98)\n",
            "49\n"
          ]
        }
      ]
    },
    {
      "cell_type": "markdown",
      "source": [
        "　　 이게되네?"
      ],
      "metadata": {
        "id": "XW79dfvTHrqn"
      }
    },
    {
      "cell_type": "markdown",
      "source": [
        "# 　**80 번까지 완료**　**(4 개 취약)**\n",
        "---"
      ],
      "metadata": {
        "id": "pdXgPoo7IKdb"
      }
    },
    {
      "cell_type": "code",
      "source": [
        "# 81 번\n",
        "scores = [8.8, 8.9, 8.7, 9.2, 9.3, 9.7, 9.9, 9.5, 7.8, 9.4]\n",
        "*valid_score , a , b = scores\n",
        "valid_score"
      ],
      "metadata": {
        "colab": {
          "base_uri": "https://localhost:8080/"
        },
        "id": "NuB2U5O0C2Bv",
        "outputId": "3b7fb4de-4f24-4b30-fb4d-c84cdcc0b1c4"
      },
      "execution_count": null,
      "outputs": [
        {
          "output_type": "execute_result",
          "data": {
            "text/plain": [
              "[8.8, 8.9, 8.7, 9.2, 9.3, 9.7, 9.9, 9.5]"
            ]
          },
          "metadata": {},
          "execution_count": 135
        }
      ]
    },
    {
      "cell_type": "code",
      "source": [
        "# 82 번\n",
        "scores = [8.8, 8.9, 8.7, 9.2, 9.3, 9.7, 9.9, 9.5, 7.8, 9.4]\n",
        "#scores = a , b , *valid_score\n",
        "a , b , *valid_score = scores\n",
        "valid_score"
      ],
      "metadata": {
        "colab": {
          "base_uri": "https://localhost:8080/"
        },
        "id": "vMrZcPvCJA39",
        "outputId": "bc422797-5143-4549-e2da-5c092ebaea83"
      },
      "execution_count": null,
      "outputs": [
        {
          "output_type": "execute_result",
          "data": {
            "text/plain": [
              "[8.7, 9.2, 9.3, 9.7, 9.9, 9.5, 7.8, 9.4]"
            ]
          },
          "metadata": {},
          "execution_count": 138
        }
      ]
    },
    {
      "cell_type": "markdown",
      "source": [
        "\n",
        "\n",
        "*   순서를 거꾸로 해야함\n",
        "\n"
      ],
      "metadata": {
        "id": "0EQt4pa_NTxo"
      }
    },
    {
      "cell_type": "code",
      "source": [
        "# 83 번\n",
        "scores = [8.8, 8.9, 8.7, 9.2, 9.3, 9.7, 9.9, 9.5, 7.8, 9.4]\n",
        "#scores = a, valid_score*, b\n",
        "a, *valid_score, b = scores\n",
        "#print(scores)\n",
        "#valid_score = scores[1]\n",
        "valid_score"
      ],
      "metadata": {
        "colab": {
          "base_uri": "https://localhost:8080/"
        },
        "id": "EuAx9rBiJFOi",
        "outputId": "019487d9-d010-4fe1-b5cc-0cba4b047fd6"
      },
      "execution_count": null,
      "outputs": [
        {
          "output_type": "execute_result",
          "data": {
            "text/plain": [
              "[8.9, 8.7, 9.2, 9.3, 9.7, 9.9, 9.5, 7.8]"
            ]
          },
          "metadata": {},
          "execution_count": 140
        }
      ]
    },
    {
      "cell_type": "code",
      "source": [
        "# 84 번\n",
        "temp = {}\n",
        "print(temp, type(temp))"
      ],
      "metadata": {
        "colab": {
          "base_uri": "https://localhost:8080/"
        },
        "id": "t7No9z8BJRRy",
        "outputId": "31a7191c-c0e2-484f-8e38-50fd4ca0944f"
      },
      "execution_count": null,
      "outputs": [
        {
          "output_type": "stream",
          "name": "stdout",
          "text": [
            "{} <class 'dict'>\n"
          ]
        }
      ]
    },
    {
      "cell_type": "code",
      "source": [
        "# 85 번\n",
        "menu = {'메로나' : 1000 , '폴라포' : 1200 , '빵빠레' : 1800}\n",
        "menu"
      ],
      "metadata": {
        "colab": {
          "base_uri": "https://localhost:8080/"
        },
        "id": "RjaFiPqJJhdx",
        "outputId": "dd0b93b6-a3a2-4db8-9435-cab2f8fb293e"
      },
      "execution_count": null,
      "outputs": [
        {
          "output_type": "stream",
          "name": "stdout",
          "text": [
            "{'메로나': 1000, '폴라포': 1200, '빵빠레': 1800}\n"
          ]
        }
      ]
    },
    {
      "cell_type": "code",
      "source": [
        "# 86 번\n",
        "menu = {'메로나' : 1000 , '폴라포' : 1200 , '빵빠레' : 1800}\n",
        "menu['죠스바'] = 1200\n",
        "menu['월드콘'] = 1500\n",
        "menu"
      ],
      "metadata": {
        "colab": {
          "base_uri": "https://localhost:8080/"
        },
        "id": "MjYCguHBJv2z",
        "outputId": "7bc29499-9de3-438c-8ced-4cafa9d7a188"
      },
      "execution_count": null,
      "outputs": [
        {
          "output_type": "execute_result",
          "data": {
            "text/plain": [
              "{'메로나': 1000, '폴라포': 1200, '빵빠레': 1800, '죠스바': 1200, '월드콘': 1500}"
            ]
          },
          "metadata": {},
          "execution_count": 111
        }
      ]
    },
    {
      "cell_type": "code",
      "source": [
        "# 87 번\n",
        "ice = {'메로나': 1000,\n",
        "       '폴로포': 1200,\n",
        "       '빵빠레': 1800,\n",
        "       '죠스바': 1200,\n",
        "       '월드콘': 1500}\n",
        "print('메로나 가격:',ice['메로나'])"
      ],
      "metadata": {
        "colab": {
          "base_uri": "https://localhost:8080/"
        },
        "id": "Auk5nheTKCGD",
        "outputId": "6d706b04-88a2-4201-9be5-774739a8d557"
      },
      "execution_count": null,
      "outputs": [
        {
          "output_type": "stream",
          "name": "stdout",
          "text": [
            "메로나 가격: 1000\n"
          ]
        }
      ]
    },
    {
      "cell_type": "code",
      "source": [
        "# 88 번\n",
        "ice = {'메로나': 1000,\n",
        "       '폴로포': 1200,\n",
        "       '빵빠레': 1800,\n",
        "       '죠스바': 1200,\n",
        "       '월드콘': 1500}\n",
        "ice['메로나'] = 1300\n",
        "ice"
      ],
      "metadata": {
        "colab": {
          "base_uri": "https://localhost:8080/"
        },
        "id": "fRJF74VfKLDi",
        "outputId": "84d5ba62-f264-4142-f862-c7dbe0dab70d"
      },
      "execution_count": null,
      "outputs": [
        {
          "output_type": "execute_result",
          "data": {
            "text/plain": [
              "{'메로나': 1300, '폴로포': 1200, '빵빠레': 1800, '죠스바': 1200, '월드콘': 1500}"
            ]
          },
          "metadata": {},
          "execution_count": 120
        }
      ]
    },
    {
      "cell_type": "code",
      "source": [
        "# 89 번\n",
        "ice = {'메로나': 1000,\n",
        "       '폴로포': 1200,\n",
        "       '빵빠레': 1800,\n",
        "       '죠스바': 1200,\n",
        "       '월드콘': 1500}\n",
        "del ice['메로나']\n",
        "ice"
      ],
      "metadata": {
        "colab": {
          "base_uri": "https://localhost:8080/"
        },
        "id": "f6uiWIXKKYVy",
        "outputId": "55a20387-5ee8-441e-e18b-a3420dc7405d"
      },
      "execution_count": null,
      "outputs": [
        {
          "output_type": "execute_result",
          "data": {
            "text/plain": [
              "{'폴로포': 1200, '빵빠레': 1800, '죠스바': 1200, '월드콘': 1500}"
            ]
          },
          "metadata": {},
          "execution_count": 119
        }
      ]
    },
    {
      "cell_type": "code",
      "source": [
        "# 90 번\n",
        ">> icecream = {'폴라포': 1200, '빵빠레': 1800, '월드콘': 1500, '메로나': 1000}\n",
        ">> icecream['누가바']\n",
        "Traceback (most recent call last):\n",
        "  File \"<pyshell#69>\", line 1, in <module>\n",
        "    icecream['누가바']\n",
        "KeyError: '누가바'\n",
        "'없는 key 값을 출력했기 때문'"
      ],
      "metadata": {
        "id": "6368fBKyKs4Z"
      },
      "execution_count": null,
      "outputs": []
    },
    {
      "cell_type": "markdown",
      "source": [
        "# 　**90 번까지 완료**　**(별 표현식)**\n",
        "---"
      ],
      "metadata": {
        "id": "B3cxPi2zLWcS"
      }
    },
    {
      "cell_type": "code",
      "source": [
        "# 91 번\n",
        "inventory = { '메로나' : [300,20] , '비비빅' : [400,3] , '죠스바' : [250,100]}\n",
        "inventory"
      ],
      "metadata": {
        "colab": {
          "base_uri": "https://localhost:8080/"
        },
        "id": "g3p_t1oRNn9r",
        "outputId": "28a495db-f30b-4665-8489-7e69c03c6063"
      },
      "execution_count": null,
      "outputs": [
        {
          "output_type": "execute_result",
          "data": {
            "text/plain": [
              "{'메로나': [300, 20], '비비빅': [400, 3], '죠스바': [250, 100]}"
            ]
          },
          "metadata": {},
          "execution_count": 141
        }
      ]
    },
    {
      "cell_type": "code",
      "source": [
        "# 92 번\n",
        "inventory = {\"메로나\": [300, 20],\n",
        "              \"비비빅\": [400, 3],\n",
        "              \"죠스바\": [250, 100]}\n",
        "print(inventory['메로나'][0], \"원\")"
      ],
      "metadata": {
        "colab": {
          "base_uri": "https://localhost:8080/"
        },
        "id": "cv5qASAeOBV0",
        "outputId": "788232cb-ad3e-4f5d-eceb-900314d32d15"
      },
      "execution_count": null,
      "outputs": [
        {
          "output_type": "stream",
          "name": "stdout",
          "text": [
            "300 원\n"
          ]
        }
      ]
    },
    {
      "cell_type": "code",
      "source": [
        "# 93 번\n",
        "inventory = {\"메로나\": [300, 20],\n",
        "              \"비비빅\": [400, 3],\n",
        "              \"죠스바\": [250, 100]}\n",
        "print(inventory['메로나'][1], \"개\")"
      ],
      "metadata": {
        "colab": {
          "base_uri": "https://localhost:8080/"
        },
        "id": "dBZkYbJgONI3",
        "outputId": "57eb1892-e15c-4b4c-d564-933059b80d45"
      },
      "execution_count": null,
      "outputs": [
        {
          "output_type": "stream",
          "name": "stdout",
          "text": [
            "20 개\n"
          ]
        }
      ]
    },
    {
      "cell_type": "code",
      "source": [
        "# 94 번\n",
        "inventory = {\"메로나\": [300, 20],\n",
        "              \"비비빅\": [400, 3],\n",
        "              \"죠스바\": [250, 100]}\n",
        "inventory['월드콘'] = [500,7]\n",
        "inventory"
      ],
      "metadata": {
        "colab": {
          "base_uri": "https://localhost:8080/"
        },
        "id": "TWGyLMY4OTdY",
        "outputId": "731ea3fa-3ff9-42c4-ba80-1d4163fc5ede"
      },
      "execution_count": null,
      "outputs": [
        {
          "output_type": "execute_result",
          "data": {
            "text/plain": [
              "{'메로나': [300, 20], '비비빅': [400, 3], '죠스바': [250, 100], '월드콘': [500, 7]}"
            ]
          },
          "metadata": {},
          "execution_count": 145
        }
      ]
    },
    {
      "cell_type": "code",
      "source": [
        "# 95 번\n",
        "icecream = {'탱크보이': 1200, '폴라포': 1200, '빵빠레': 1800, '월드콘': 1500, '메로나': 1000}\n",
        "list(icecream.keys())"
      ],
      "metadata": {
        "colab": {
          "base_uri": "https://localhost:8080/"
        },
        "id": "Cx_rHE8oOfwU",
        "outputId": "19c0f5b0-dc95-48b6-fdce-fdbc0f5863dd"
      },
      "execution_count": null,
      "outputs": [
        {
          "output_type": "execute_result",
          "data": {
            "text/plain": [
              "['탱크보이', '폴라포', '빵빠레', '월드콘', '메로나']"
            ]
          },
          "metadata": {},
          "execution_count": 172
        }
      ]
    },
    {
      "cell_type": "code",
      "source": [
        "# 96 번\n",
        "icecream = {'탱크보이': 1200, '폴라포': 1200, '빵빠레': 1800, '월드콘': 1500, '메로나': 1000}\n",
        "list(icecream.values())"
      ],
      "metadata": {
        "colab": {
          "base_uri": "https://localhost:8080/"
        },
        "id": "0AEjya5TOrIk",
        "outputId": "5e193d80-7700-4dfd-f450-fd2afcde883a"
      },
      "execution_count": null,
      "outputs": [
        {
          "output_type": "execute_result",
          "data": {
            "text/plain": [
              "[1200, 1200, 1800, 1500, 1000]"
            ]
          },
          "metadata": {},
          "execution_count": 173
        }
      ]
    },
    {
      "cell_type": "code",
      "source": [
        "# 97 번\n",
        "icecream = {'탱크보이': 1200, '폴라포': 1200, '빵빠레': 1800, '월드콘': 1500, '메로나': 1000}\n",
        "#sum.icecream.values()\n",
        "print(sum(list(icecream.values())))\n",
        "print(sum(icecream.values()))"
      ],
      "metadata": {
        "colab": {
          "base_uri": "https://localhost:8080/"
        },
        "id": "A-LbrtjnO3Sd",
        "outputId": "0ac26359-203b-409a-bc50-6061c4708abe"
      },
      "execution_count": null,
      "outputs": [
        {
          "output_type": "stream",
          "name": "stdout",
          "text": [
            "6700\n",
            "6700\n"
          ]
        }
      ]
    },
    {
      "cell_type": "code",
      "source": [
        "# 98 번\n",
        "icecream = {'탱크보이': 1200, '폴라포': 1200, '빵빠레': 1800, '월드콘': 1500, '메로나': 1000}\n",
        "new_product = {'팥빙수':2700, '아맛나':1000}\n",
        "#new_product.update(icecream)\n",
        "#new_product\n",
        "icecream.update(new_product)\n",
        "icecream"
      ],
      "metadata": {
        "colab": {
          "base_uri": "https://localhost:8080/"
        },
        "id": "9M8k3v81PGe1",
        "outputId": "594947ca-8aec-4a07-b3e4-52b782e7afcb"
      },
      "execution_count": null,
      "outputs": [
        {
          "output_type": "execute_result",
          "data": {
            "text/plain": [
              "{'탱크보이': 1200,\n",
              " '폴라포': 1200,\n",
              " '빵빠레': 1800,\n",
              " '월드콘': 1500,\n",
              " '메로나': 1000,\n",
              " '팥빙수': 2700,\n",
              " '아맛나': 1000}"
            ]
          },
          "metadata": {},
          "execution_count": 178
        }
      ]
    },
    {
      "cell_type": "code",
      "source": [
        "# 99 번\n",
        "keys = (\"apple\", \"pear\", \"peach\")\n",
        "vals = (300, 250, 400)\n",
        "#print(zip(keys,vals))\n",
        "#dic = {zip(keys:vals)}\n",
        "#dic = zip(keys:vals)\n",
        "dict(zip(keys,vals))"
      ],
      "metadata": {
        "colab": {
          "base_uri": "https://localhost:8080/"
        },
        "id": "b7Ld6kMlPYW0",
        "outputId": "5fc3bd18-89e2-4ce1-929d-9b4ecddf9e45"
      },
      "execution_count": null,
      "outputs": [
        {
          "output_type": "execute_result",
          "data": {
            "text/plain": [
              "{'apple': 300, 'pear': 250, 'peach': 400}"
            ]
          },
          "metadata": {},
          "execution_count": 184
        }
      ]
    },
    {
      "cell_type": "code",
      "source": [
        "# 100 번\n",
        "date = ['09/05', '09/06', '09/07', '09/08', '09/09']\n",
        "close_price = [10500, 10300, 10100, 10800, 11000]\n",
        "close_table = dict(zip(date,close_price))\n",
        "close_table"
      ],
      "metadata": {
        "colab": {
          "base_uri": "https://localhost:8080/"
        },
        "id": "rwv4Ru43Pv7T",
        "outputId": "be32d9cc-da1f-4a33-9998-3b3a54b4c446"
      },
      "execution_count": null,
      "outputs": [
        {
          "output_type": "execute_result",
          "data": {
            "text/plain": [
              "{'09/05': 10500,\n",
              " '09/06': 10300,\n",
              " '09/07': 10100,\n",
              " '09/08': 10800,\n",
              " '09/09': 11000}"
            ]
          },
          "metadata": {},
          "execution_count": 186
        }
      ]
    },
    {
      "cell_type": "markdown",
      "source": [
        "# 　**100 번까지 완료**　**(update , zip)**\n",
        "---"
      ],
      "metadata": {
        "id": "-LfUkSNORPf8"
      }
    }
  ]
}