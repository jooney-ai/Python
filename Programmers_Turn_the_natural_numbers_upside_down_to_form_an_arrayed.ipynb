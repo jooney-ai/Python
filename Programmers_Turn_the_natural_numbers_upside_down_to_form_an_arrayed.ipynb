{
  "nbformat": 4,
  "nbformat_minor": 0,
  "metadata": {
    "colab": {
      "private_outputs": true,
      "provenance": []
    },
    "kernelspec": {
      "name": "python3",
      "display_name": "Python 3"
    },
    "language_info": {
      "name": "python"
    },
    "gpuClass": "standard"
  },
  "cells": [
    {
      "cell_type": "markdown",
      "source": [
        "## Turn the natural numbers upside down to form an arrayed\n",
        "\n",
        "\n",
        "> Flip the natural number 'n' and return it to an array with each digit as an element. For example, if 'n' is 12345 it returns [5,4,3,2,1].\n",
        "\n",
        "\n",
        "Restricted Conditions\n",
        "\n",
        "*   n is a natural number less than 10,000,000,000.\n",
        "\n",
        "\n",
        "```\n",
        "for example : if n = 12345, return [5,4,3,2,1]\n",
        "```"
      ],
      "metadata": {
        "id": "oekeX0NMC3Y_"
      }
    },
    {
      "cell_type": "code",
      "source": [
        "import time"
      ],
      "metadata": {
        "id": "FDK3bzUu9NVq"
      },
      "execution_count": null,
      "outputs": []
    },
    {
      "cell_type": "code",
      "execution_count": null,
      "metadata": {
        "id": "3M7H7WRWCUqY"
      },
      "outputs": [],
      "source": [
        "start = time.time()\n",
        "\n",
        "def solution(n):\n",
        "\n",
        "# Solution ===========================\n",
        "\n",
        "    return [ int(str(n)[num]) for num in range( len(str(n))-1 , -1 , -1 ) ]\n",
        "      \n",
        "# ====================================\n",
        "    return answer\n",
        "\n",
        "print(solution(12345), end = '\\n\\n')\n",
        "\n",
        "end = time.time()\n",
        "\n",
        "print(\"Operation time :\", f\"{end - start:.5f} sec\")"
      ]
    }
  ]
}