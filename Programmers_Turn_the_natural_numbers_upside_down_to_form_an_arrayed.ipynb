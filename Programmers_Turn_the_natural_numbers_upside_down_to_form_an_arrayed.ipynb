{
  "nbformat": 4,
  "nbformat_minor": 0,
  "metadata": {
    "colab": {
      "private_outputs": true,
      "provenance": [],
      "include_colab_link": true
    },
    "kernelspec": {
      "name": "python3",
      "display_name": "Python 3"
    },
    "language_info": {
      "name": "python"
    },
    "gpuClass": "standard"
  },
  "cells": [
    {
      "cell_type": "markdown",
      "metadata": {
        "id": "view-in-github",
        "colab_type": "text"
      },
      "source": [
        "<a href=\"https://colab.research.google.com/github/jooney-ai/Python/blob/main/Programmers_Turn_the_natural_numbers_upside_down_to_form_an_arrayed.ipynb\" target=\"_parent\"><img src=\"https://colab.research.google.com/assets/colab-badge.svg\" alt=\"Open In Colab\"/></a>"
      ]
    },
    {
      "cell_type": "markdown",
      "source": [
        "## Turn the natural numbers upside down to form an arrayed\n",
        "\n",
        "\n",
        "> Flip the natural number 'n' and return it to an array with each digit as an element. For example, if 'n' is 12345 it returns [5,4,3,2,1].\n",
        "\n",
        "\n",
        "Restricted Conditions\n",
        "\n",
        "*   n is a natural number less than 10,000,000,000.\n",
        "\n",
        "\n",
        "```\n",
        "for example : if n = 12345, return [5,4,3,2,1]\n",
        "```"
      ],
      "metadata": {
        "id": "oekeX0NMC3Y_"
      }
    },
    {
      "cell_type": "code",
      "source": [
        "import time"
      ],
      "metadata": {
        "id": "FDK3bzUu9NVq"
      },
      "execution_count": null,
      "outputs": []
    },
    {
      "cell_type": "code",
      "source": [
        "def test():\n",
        "\n",
        "    print(solution(12345), end = '\\n\\n')\n",
        "\n",
        "    end = time.time()\n",
        "\n",
        "    print(\"Operation time :\", f\"{end - start:.5f} sec\")"
      ],
      "metadata": {
        "id": "nbBhTs7r_7S4"
      },
      "execution_count": null,
      "outputs": []
    },
    {
      "cell_type": "code",
      "execution_count": null,
      "metadata": {
        "id": "3M7H7WRWCUqY"
      },
      "outputs": [],
      "source": [
        "start = time.time()\n",
        "\n",
        "def solution(n):\n",
        "\n",
        "# Solution ===========================\n",
        "\n",
        "    return [ int(str(n)[num]) for num in range( len(str(n))-1 , -1 , -1 ) ]\n",
        "      \n",
        "# ====================================\n",
        "    return answer\n",
        "\n",
        "\n",
        "# TEST\n",
        "\n",
        "test()"
      ]
    },
    {
      "cell_type": "code",
      "execution_count": null,
      "metadata": {
        "id": "LUsD7_FW_0qo"
      },
      "outputs": [],
      "source": [
        "start = time.time()\n",
        "\n",
        "def solution(n):\n",
        "\n",
        "# Solution ===========================\n",
        "\n",
        "    return [ int(num) for num in str(n)[::-1] ]\n",
        "      \n",
        "# ====================================\n",
        "    return answer\n",
        "\n",
        "\n",
        "# TEST\n",
        "\n",
        "test()"
      ]
    },
    {
      "cell_type": "code",
      "source": [
        "start = time.time()\n",
        "\n",
        "def solution(n):\n",
        "\n",
        "# Solution ===========================\n",
        "\n",
        "    return list(map(int, reversed(str(n))))\n",
        "      \n",
        "# ====================================\n",
        "    return answer\n",
        "\n",
        "\n",
        "# TEST\n",
        "\n",
        "test()"
      ],
      "metadata": {
        "id": "H5pkt3pNu8mB"
      },
      "execution_count": null,
      "outputs": []
    }
  ]
}