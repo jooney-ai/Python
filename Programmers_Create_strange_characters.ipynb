{
  "nbformat": 4,
  "nbformat_minor": 0,
  "metadata": {
    "colab": {
      "private_outputs": true,
      "provenance": []
    },
    "kernelspec": {
      "name": "python3",
      "display_name": "Python 3"
    },
    "language_info": {
      "name": "python"
    },
    "gpuClass": "standard"
  },
  "cells": [
    {
      "cell_type": "markdown",
      "source": [
        "## Create strange characters\n",
        "\n",
        "The string 's' consists of one or more words. \n",
        "Each word is separated by one or more space characters.\n",
        "Complete the solution, a function that returns a string with an even letter in capital letters and an odd letter in lowercase letters.\n",
        "\n",
        "\n",
        "*   You must determine the even/odd index by word (based on space), not the even/odd index of the entire string.\n",
        "\n",
        "*   The first letter must be treated as an even number of letters, as seen by the 0 th index.\n",
        "\n",
        "\n",
        "```\n",
        "for example : if s = \"try hello world\", return \"TrY HeLlO WoRlD\"\n",
        "```"
      ],
      "metadata": {
        "id": "oekeX0NMC3Y_"
      }
    },
    {
      "cell_type": "code",
      "source": [
        "import time"
      ],
      "metadata": {
        "id": "FDK3bzUu9NVq"
      },
      "execution_count": null,
      "outputs": []
    },
    {
      "cell_type": "code",
      "execution_count": null,
      "metadata": {
        "id": "3M7H7WRWCUqY"
      },
      "outputs": [],
      "source": [
        "start = time.time()\n",
        "\n",
        "def solution(s):\n",
        "\n",
        "# Solution ===========================\n",
        "\n",
        "    answer = ''\n",
        "    num = 0\n",
        "    \n",
        "    for alphabet in s:\n",
        "        \n",
        "        if alphabet == ' ' :\n",
        "            num = -1\n",
        "\n",
        "        if num % 2 == 0 :\n",
        "            answer += alphabet.upper()\n",
        "            num += 1\n",
        "        else:\n",
        "            answer += alphabet.lower()\n",
        "            num += 1\n",
        "      \n",
        "# ====================================\n",
        "    return answer\n",
        "\n",
        "print(solution(\"try hello world\"), end = '\\n\\n')\n",
        "\n",
        "end = time.time()\n",
        "\n",
        "print(\"Operation time :\", f\"{end - start:.5f} sec\")"
      ]
    }
  ]
}